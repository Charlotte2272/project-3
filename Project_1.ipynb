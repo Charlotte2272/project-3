{
 "cells": [
  {
   "cell_type": "markdown",
   "id": "9b170229-031b-4532-87d2-392a68a99061",
   "metadata": {},
   "source": [
    "# Project 1"
   ]
  },
  {
   "cell_type": "markdown",
   "id": "77ecdd01-6eee-42eb-8b44-669d0cb51e27",
   "metadata": {},
   "source": [
    "**Step 1: Import data through Pandas**"
   ]
  },
  {
   "cell_type": "code",
   "execution_count": 28,
   "id": "4a0bb133-3397-4aff-a76e-19bc76dc1249",
   "metadata": {},
   "outputs": [],
   "source": [
    "import plotly.io as pio\n",
    "\n",
    "pio.renderers.default = \"vscode+jupyterlab+notebook_connected\""
   ]
  },
  {
   "cell_type": "code",
   "execution_count": 30,
   "id": "5b2c5658-8f3f-417c-ad47-b58f50550aa1",
   "metadata": {},
   "outputs": [
    {
     "data": {
      "text/html": [
       "<div>\n",
       "<style scoped>\n",
       "    .dataframe tbody tr th:only-of-type {\n",
       "        vertical-align: middle;\n",
       "    }\n",
       "\n",
       "    .dataframe tbody tr th {\n",
       "        vertical-align: top;\n",
       "    }\n",
       "\n",
       "    .dataframe thead th {\n",
       "        text-align: right;\n",
       "    }\n",
       "</style>\n",
       "<table border=\"1\" class=\"dataframe\">\n",
       "  <thead>\n",
       "    <tr style=\"text-align: right;\">\n",
       "      <th></th>\n",
       "      <th>Age Group</th>\n",
       "      <th>Borough</th>\n",
       "      <th>1950</th>\n",
       "      <th>1950 - Boro share of NYC total</th>\n",
       "      <th>1960</th>\n",
       "      <th>1960 - Boro share of NYC total</th>\n",
       "      <th>1970</th>\n",
       "      <th>1970 - Boro share of NYC total</th>\n",
       "      <th>1980</th>\n",
       "      <th>1980 - Boro share of NYC total</th>\n",
       "      <th>...</th>\n",
       "      <th>2000</th>\n",
       "      <th>2000 - Boro share of NYC total</th>\n",
       "      <th>2010</th>\n",
       "      <th>2010 - Boro share of NYC total</th>\n",
       "      <th>2020</th>\n",
       "      <th>2020 - Boro share of NYC total</th>\n",
       "      <th>2030</th>\n",
       "      <th>2030 - Boro share of NYC total</th>\n",
       "      <th>2040</th>\n",
       "      <th>2040 - Boro share of NYC total</th>\n",
       "    </tr>\n",
       "  </thead>\n",
       "  <tbody>\n",
       "    <tr>\n",
       "      <th>0</th>\n",
       "      <td>Total Population</td>\n",
       "      <td>NYC Total</td>\n",
       "      <td>7891957</td>\n",
       "      <td>100.00</td>\n",
       "      <td>7781984</td>\n",
       "      <td>100.00</td>\n",
       "      <td>7894862</td>\n",
       "      <td>100.00</td>\n",
       "      <td>7071639</td>\n",
       "      <td>100.00</td>\n",
       "      <td>...</td>\n",
       "      <td>8008278</td>\n",
       "      <td>100.00</td>\n",
       "      <td>8242624</td>\n",
       "      <td>100.00</td>\n",
       "      <td>8550971</td>\n",
       "      <td>100.00</td>\n",
       "      <td>8821027</td>\n",
       "      <td>100.00</td>\n",
       "      <td>9025145</td>\n",
       "      <td>100.00</td>\n",
       "    </tr>\n",
       "    <tr>\n",
       "      <th>1</th>\n",
       "      <td>Total Population</td>\n",
       "      <td>Bronx</td>\n",
       "      <td>1451277</td>\n",
       "      <td>18.39</td>\n",
       "      <td>1424815</td>\n",
       "      <td>18.31</td>\n",
       "      <td>1471701</td>\n",
       "      <td>18.64</td>\n",
       "      <td>1168972</td>\n",
       "      <td>16.53</td>\n",
       "      <td>...</td>\n",
       "      <td>1332650</td>\n",
       "      <td>16.64</td>\n",
       "      <td>1385108</td>\n",
       "      <td>16.80</td>\n",
       "      <td>1446788</td>\n",
       "      <td>16.92</td>\n",
       "      <td>1518998</td>\n",
       "      <td>17.22</td>\n",
       "      <td>1579245</td>\n",
       "      <td>17.50</td>\n",
       "    </tr>\n",
       "    <tr>\n",
       "      <th>2</th>\n",
       "      <td>Total Population</td>\n",
       "      <td>Brooklyn</td>\n",
       "      <td>2738175</td>\n",
       "      <td>34.70</td>\n",
       "      <td>2627319</td>\n",
       "      <td>33.76</td>\n",
       "      <td>2602012</td>\n",
       "      <td>32.96</td>\n",
       "      <td>2230936</td>\n",
       "      <td>31.55</td>\n",
       "      <td>...</td>\n",
       "      <td>2465326</td>\n",
       "      <td>30.78</td>\n",
       "      <td>2552911</td>\n",
       "      <td>30.97</td>\n",
       "      <td>2648452</td>\n",
       "      <td>30.97</td>\n",
       "      <td>2754009</td>\n",
       "      <td>31.22</td>\n",
       "      <td>2840525</td>\n",
       "      <td>31.47</td>\n",
       "    </tr>\n",
       "    <tr>\n",
       "      <th>3</th>\n",
       "      <td>Total Population</td>\n",
       "      <td>Manhattan</td>\n",
       "      <td>1960101</td>\n",
       "      <td>24.84</td>\n",
       "      <td>1698281</td>\n",
       "      <td>21.82</td>\n",
       "      <td>1539233</td>\n",
       "      <td>19.50</td>\n",
       "      <td>1428285</td>\n",
       "      <td>20.20</td>\n",
       "      <td>...</td>\n",
       "      <td>1537195</td>\n",
       "      <td>19.20</td>\n",
       "      <td>1585873</td>\n",
       "      <td>19.24</td>\n",
       "      <td>1638281</td>\n",
       "      <td>19.16</td>\n",
       "      <td>1676720</td>\n",
       "      <td>19.01</td>\n",
       "      <td>1691617</td>\n",
       "      <td>18.74</td>\n",
       "    </tr>\n",
       "    <tr>\n",
       "      <th>4</th>\n",
       "      <td>Total Population</td>\n",
       "      <td>Queens</td>\n",
       "      <td>1550849</td>\n",
       "      <td>19.65</td>\n",
       "      <td>1809578</td>\n",
       "      <td>23.25</td>\n",
       "      <td>1986473</td>\n",
       "      <td>25.16</td>\n",
       "      <td>1891325</td>\n",
       "      <td>26.75</td>\n",
       "      <td>...</td>\n",
       "      <td>2229379</td>\n",
       "      <td>27.84</td>\n",
       "      <td>2250002</td>\n",
       "      <td>27.30</td>\n",
       "      <td>2330295</td>\n",
       "      <td>27.25</td>\n",
       "      <td>2373551</td>\n",
       "      <td>26.91</td>\n",
       "      <td>2412649</td>\n",
       "      <td>26.73</td>\n",
       "    </tr>\n",
       "    <tr>\n",
       "      <th>5</th>\n",
       "      <td>Total Population</td>\n",
       "      <td>Staten Island</td>\n",
       "      <td>191555</td>\n",
       "      <td>2.43</td>\n",
       "      <td>221991</td>\n",
       "      <td>2.85</td>\n",
       "      <td>295443</td>\n",
       "      <td>3.74</td>\n",
       "      <td>352121</td>\n",
       "      <td>4.98</td>\n",
       "      <td>...</td>\n",
       "      <td>443728</td>\n",
       "      <td>5.54</td>\n",
       "      <td>468730</td>\n",
       "      <td>5.69</td>\n",
       "      <td>487155</td>\n",
       "      <td>5.70</td>\n",
       "      <td>497749</td>\n",
       "      <td>5.64</td>\n",
       "      <td>501109</td>\n",
       "      <td>5.55</td>\n",
       "    </tr>\n",
       "  </tbody>\n",
       "</table>\n",
       "<p>6 rows × 22 columns</p>\n",
       "</div>"
      ],
      "text/plain": [
       "          Age Group           Borough     1950  \\\n",
       "0  Total Population         NYC Total  7891957   \n",
       "1  Total Population             Bronx  1451277   \n",
       "2  Total Population          Brooklyn  2738175   \n",
       "3  Total Population         Manhattan  1960101   \n",
       "4  Total Population            Queens  1550849   \n",
       "5  Total Population     Staten Island   191555   \n",
       "\n",
       "   1950 - Boro share of NYC total     1960  1960 - Boro share of NYC total  \\\n",
       "0                          100.00  7781984                          100.00   \n",
       "1                           18.39  1424815                           18.31   \n",
       "2                           34.70  2627319                           33.76   \n",
       "3                           24.84  1698281                           21.82   \n",
       "4                           19.65  1809578                           23.25   \n",
       "5                            2.43   221991                            2.85   \n",
       "\n",
       "      1970  1970 - Boro share of NYC total     1980  \\\n",
       "0  7894862                          100.00  7071639   \n",
       "1  1471701                           18.64  1168972   \n",
       "2  2602012                           32.96  2230936   \n",
       "3  1539233                           19.50  1428285   \n",
       "4  1986473                           25.16  1891325   \n",
       "5   295443                            3.74   352121   \n",
       "\n",
       "   1980 - Boro share of NYC total  ...     2000  \\\n",
       "0                          100.00  ...  8008278   \n",
       "1                           16.53  ...  1332650   \n",
       "2                           31.55  ...  2465326   \n",
       "3                           20.20  ...  1537195   \n",
       "4                           26.75  ...  2229379   \n",
       "5                            4.98  ...   443728   \n",
       "\n",
       "   2000 - Boro share of NYC total     2010  2010 - Boro share of NYC total  \\\n",
       "0                          100.00  8242624                          100.00   \n",
       "1                           16.64  1385108                           16.80   \n",
       "2                           30.78  2552911                           30.97   \n",
       "3                           19.20  1585873                           19.24   \n",
       "4                           27.84  2250002                           27.30   \n",
       "5                            5.54   468730                            5.69   \n",
       "\n",
       "      2020  2020 - Boro share of NYC total     2030  \\\n",
       "0  8550971                          100.00  8821027   \n",
       "1  1446788                           16.92  1518998   \n",
       "2  2648452                           30.97  2754009   \n",
       "3  1638281                           19.16  1676720   \n",
       "4  2330295                           27.25  2373551   \n",
       "5   487155                            5.70   497749   \n",
       "\n",
       "   2030 - Boro share of NYC total     2040  2040 - Boro share of NYC total  \n",
       "0                          100.00  9025145                          100.00  \n",
       "1                           17.22  1579245                           17.50  \n",
       "2                           31.22  2840525                           31.47  \n",
       "3                           19.01  1691617                           18.74  \n",
       "4                           26.91  2412649                           26.73  \n",
       "5                            5.64   501109                            5.55  \n",
       "\n",
       "[6 rows x 22 columns]"
      ]
     },
     "execution_count": 30,
     "metadata": {},
     "output_type": "execute_result"
    }
   ],
   "source": [
    "import pandas as pd\n",
    "\n",
    "df = pd.read_csv('New_York_City_Population_by_Borough__1950_-_2040_20241101.csv') \n",
    "df"
   ]
  },
  {
   "cell_type": "markdown",
   "id": "f5bfc4f1-1088-4dd7-a1b3-a8def452964c",
   "metadata": {},
   "source": [
    "**Step 2: Calculate One Column's Mean, Median, Mode**"
   ]
  },
  {
   "cell_type": "code",
   "execution_count": 33,
   "id": "0a5a560f-fa09-492c-9a9e-25db2c125755",
   "metadata": {},
   "outputs": [
    {
     "ename": "NameError",
     "evalue": "name 'value_counts' is not defined",
     "output_type": "error",
     "traceback": [
      "\u001b[0;31m---------------------------------------------------------------------------\u001b[0m",
      "\u001b[0;31mNameError\u001b[0m                                 Traceback (most recent call last)",
      "Cell \u001b[0;32mIn[33], line 8\u001b[0m\n\u001b[1;32m      4\u001b[0m median \u001b[38;5;241m=\u001b[39m population_2000\u001b[38;5;241m.\u001b[39mmedian()\n\u001b[1;32m      6\u001b[0m counts \u001b[38;5;241m=\u001b[39m population_2000\u001b[38;5;241m.\u001b[39mvalue_counts()\n\u001b[0;32m----> 8\u001b[0m repeated_values \u001b[38;5;241m=\u001b[39m counts[\u001b[43mvalue_counts\u001b[49m \u001b[38;5;241m>\u001b[39m \u001b[38;5;241m1\u001b[39m]\n\u001b[1;32m     10\u001b[0m \u001b[38;5;28;01mif\u001b[39;00m \u001b[38;5;129;01mnot\u001b[39;00m repeated_values\u001b[38;5;241m.\u001b[39mempty:\n\u001b[1;32m     11\u001b[0m     mode \u001b[38;5;241m=\u001b[39m repeated_values\u001b[38;5;241m.\u001b[39midxmax()  \n",
      "\u001b[0;31mNameError\u001b[0m: name 'value_counts' is not defined"
     ]
    }
   ],
   "source": [
    "population_2000 = df['2000']\n",
    "\n",
    "mean = population_2000.mean()\n",
    "median = population_2000.median()\n",
    "\n",
    "counts = population_2000.value_counts()\n",
    "\n",
    "repeated_values = counts[value_counts > 1]\n",
    "\n",
    "if not repeated_values.empty:\n",
    "    mode = repeated_values.idxmax()  \n",
    "else:\n",
    "    mode = \"No mode\" \n",
    "\n",
    "print(f\"Mean: {int(mean)}, Median: {int(median)}, Mode: {mode}\")"
   ]
  },
  {
   "cell_type": "markdown",
   "id": "3059f357-008e-45ee-98eb-4a552281a8ae",
   "metadata": {},
   "source": [
    "**Step 3.1: Repeat Without Pandas: Read Data for One Column**"
   ]
  },
  {
   "cell_type": "code",
   "execution_count": 36,
   "id": "8bb5214e-5d19-41a7-8bbe-9f4f7b4de1df",
   "metadata": {},
   "outputs": [
    {
     "name": "stdout",
     "output_type": "stream",
     "text": [
      "8008278\n",
      "1332650\n",
      "2465326\n",
      "1537195\n",
      "2229379\n",
      "443728\n"
     ]
    }
   ],
   "source": [
    "import csv\n",
    "\n",
    "with open('New_York_City_Population_by_Borough__1950_-_2040_20241101.csv', 'r') as file:\n",
    "    population = csv.DictReader(file)\n",
    "    \n",
    "    for row in population:\n",
    "        print (row['2000'])"
   ]
  },
  {
   "cell_type": "markdown",
   "id": "a254abb6-eb6d-4f88-8b3f-d45636e35109",
   "metadata": {},
   "source": [
    "**Step 3.2: Calculate One Column's Mean, Median, Mode Without Pandas**"
   ]
  },
  {
   "cell_type": "code",
   "execution_count": 39,
   "id": "16eb06c6-5f38-40f0-8973-deb68a290cc0",
   "metadata": {},
   "outputs": [
    {
     "name": "stdout",
     "output_type": "stream",
     "text": [
      "Mean: 2669426\n"
     ]
    }
   ],
   "source": [
    "with open('New_York_City_Population_by_Borough__1950_-_2040_20241101.csv', 'r') as file:\n",
    "    population = csv.DictReader(file)\n",
    "\n",
    "    total_population_2000 = 0 \n",
    "    count = 0\n",
    "    \n",
    "    for row in population:\n",
    "        population = int(row[\"2000\"])\n",
    "        total_population_2000 += population \n",
    "        count += 1\n",
    "    \n",
    "    average_population_2000 = total_population_2000/count\n",
    "    \n",
    "    print(f\"Mean: {int(average_population_2000)}\")"
   ]
  },
  {
   "cell_type": "code",
   "execution_count": 15,
   "id": "4991086f-4661-43cd-a5d3-62ec4531b9b7",
   "metadata": {},
   "outputs": [
    {
     "name": "stdout",
     "output_type": "stream",
     "text": [
      "Median: 1883287.0\n"
     ]
    }
   ],
   "source": [
    "with open('New_York_City_Population_by_Borough__1950_-_2040_20241101.csv', 'r') as file:\n",
    "    population = csv.DictReader(file)\n",
    "    population_2000 = [int(row[\"2000\"]) for row in population]\n",
    "\n",
    "population_2000.sort()\n",
    "\n",
    "count = len(population_2000)\n",
    "if count % 2 == 1:\n",
    "    median = population_2000[count // 2]\n",
    "else:\n",
    "    median = (population_2000[count // 2 - 1] + population_2000[count // 2]) / 2\n",
    "\n",
    "print(f\"Median: {median}\")"
   ]
  },
  {
   "cell_type": "code",
   "execution_count": 17,
   "id": "3795880b-ac1d-4d03-ad28-b531a001ace3",
   "metadata": {},
   "outputs": [
    {
     "name": "stdout",
     "output_type": "stream",
     "text": [
      "Mode: No mode\n"
     ]
    }
   ],
   "source": [
    "with open('New_York_City_Population_by_Borough__1950_-_2040_20241101.csv', 'r') as file:\n",
    "    population = csv.DictReader(file)\n",
    "        \n",
    "    mode = \"No mode\"\n",
    "\n",
    "    print(f\"Mode: {mode}\")\n"
   ]
  },
  {
   "cell_type": "markdown",
   "id": "c0d04eb1-8279-4899-ae66-c501fb82c712",
   "metadata": {},
   "source": [
    "**Step 4: Visualization Sparkline**"
   ]
  },
  {
   "cell_type": "code",
   "execution_count": 20,
   "id": "f54d2771-0460-4398-81d1-92f07881a6ff",
   "metadata": {},
   "outputs": [
    {
     "data": {
      "text/html": [
       "<div>\n",
       "<style scoped>\n",
       "    .dataframe tbody tr th:only-of-type {\n",
       "        vertical-align: middle;\n",
       "    }\n",
       "\n",
       "    .dataframe tbody tr th {\n",
       "        vertical-align: top;\n",
       "    }\n",
       "\n",
       "    .dataframe thead th {\n",
       "        text-align: right;\n",
       "    }\n",
       "</style>\n",
       "<table border=\"1\" class=\"dataframe\">\n",
       "  <thead>\n",
       "    <tr style=\"text-align: right;\">\n",
       "      <th></th>\n",
       "      <th>Borough;1950</th>\n",
       "    </tr>\n",
       "  </thead>\n",
       "  <tbody>\n",
       "    <tr>\n",
       "      <th>0</th>\n",
       "      <td>NYC Total;7891957</td>\n",
       "    </tr>\n",
       "    <tr>\n",
       "      <th>1</th>\n",
       "      <td>Bronx;1451277</td>\n",
       "    </tr>\n",
       "    <tr>\n",
       "      <th>2</th>\n",
       "      <td>Brooklyn;2738175</td>\n",
       "    </tr>\n",
       "    <tr>\n",
       "      <th>3</th>\n",
       "      <td>Manhattan;1960101</td>\n",
       "    </tr>\n",
       "    <tr>\n",
       "      <th>4</th>\n",
       "      <td>Queens;1550849</td>\n",
       "    </tr>\n",
       "    <tr>\n",
       "      <th>5</th>\n",
       "      <td>Staten Island;191555</td>\n",
       "    </tr>\n",
       "  </tbody>\n",
       "</table>\n",
       "</div>"
      ],
      "text/plain": [
       "              Borough;1950\n",
       "0        NYC Total;7891957\n",
       "1            Bronx;1451277\n",
       "2         Brooklyn;2738175\n",
       "3        Manhattan;1960101\n",
       "4           Queens;1550849\n",
       "5     Staten Island;191555"
      ]
     },
     "execution_count": 20,
     "metadata": {},
     "output_type": "execute_result"
    }
   ],
   "source": [
    "import pandas as pd\n",
    "\n",
    "df = pd.read_csv('1950.csv')\n",
    "df"
   ]
  },
  {
   "cell_type": "code",
   "execution_count": 22,
   "id": "f2995c71-dc11-438f-8169-30a4e41940c6",
   "metadata": {},
   "outputs": [
    {
     "name": "stdout",
     "output_type": "stream",
     "text": [
      "NYC Total: **********\n",
      "   Bronx: *\n",
      "   Brooklyn: ***\n",
      "   Manhattan: **\n",
      "   Queens: *\n",
      "   Staten Island: \n"
     ]
    }
   ],
   "source": [
    "df[['Borough', 'Count']] = df['Borough;1950'].str.split(';', expand=True)\n",
    "df['Count'] = pd.to_numeric(df['Count'])\n",
    "\n",
    "scaling = 10 / df['Count'].max()\n",
    "\n",
    "for i in range(len(df)):\n",
    "    borough = df['Borough'][i]\n",
    "    count = df['Count'][i]\n",
    "    sparkline = '*' * int(count * scaling)\n",
    "    print(f\"{borough}: {sparkline}\")"
   ]
  }
 ],
 "metadata": {
  "kernelspec": {
   "display_name": "Python 3 (ipykernel)",
   "language": "python",
   "name": "python3"
  },
  "language_info": {
   "codemirror_mode": {
    "name": "ipython",
    "version": 3
   },
   "file_extension": ".py",
   "mimetype": "text/x-python",
   "name": "python",
   "nbconvert_exporter": "python",
   "pygments_lexer": "ipython3",
   "version": "3.10.14"
  }
 },
 "nbformat": 4,
 "nbformat_minor": 5
}
