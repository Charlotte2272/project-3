{
 "cells": [
  {
   "cell_type": "markdown",
   "id": "77671195-f062-4bdc-a397-e0f9a9d42a77",
   "metadata": {},
   "source": [
    "# PROJECT 2 - Fortune 500 Companies\n",
    "\n",
    "By Charlotte Song"
   ]
  },
  {
   "cell_type": "markdown",
   "id": "b1aeb874-3909-4df4-9b11-36ac17ae128f",
   "metadata": {},
   "source": [
    "This project finds out the top 5 states with the largest amount of Fortune 500 firms using two datasets: the Fortune 500 firms and the Top 1000 U.S. Companies. This analysis aims to find major regional trends by combining financial data with geographic information, presenting visual insights about the distribution of business centers throughout the US."
   ]
  },
  {
   "cell_type": "code",
   "execution_count": 2,
   "id": "243a86b4-d30b-4e0f-bc5b-1c7e3806ca56",
   "metadata": {},
   "outputs": [],
   "source": [
    "import plotly.io as pio\n",
    "\n",
    "pio.renderers.default = \"vscode+jupyterlab+notebook_connected\""
   ]
  },
  {
   "cell_type": "code",
   "execution_count": 4,
   "id": "16f39f28-b7ad-4de1-b6ea-a0383b4f103b",
   "metadata": {},
   "outputs": [],
   "source": [
    "import pandas as pd"
   ]
  },
  {
   "cell_type": "markdown",
   "id": "db439869-e15c-43ce-a767-b544f22af19b",
   "metadata": {},
   "source": [
    "#### 1) Import first dataset of top 1000 companies in the United States, including their located states and attributed industries etc.\n"
   ]
  },
  {
   "cell_type": "code",
   "execution_count": 7,
   "id": "9bb4bfb5-7f46-41b1-b878-6dad580c4b14",
   "metadata": {},
   "outputs": [
    {
     "data": {
      "text/html": [
       "<div>\n",
       "<style scoped>\n",
       "    .dataframe tbody tr th:only-of-type {\n",
       "        vertical-align: middle;\n",
       "    }\n",
       "\n",
       "    .dataframe tbody tr th {\n",
       "        vertical-align: top;\n",
       "    }\n",
       "\n",
       "    .dataframe thead th {\n",
       "        text-align: right;\n",
       "    }\n",
       "</style>\n",
       "<table border=\"1\" class=\"dataframe\">\n",
       "  <thead>\n",
       "    <tr style=\"text-align: right;\">\n",
       "      <th></th>\n",
       "      <th>longitude</th>\n",
       "      <th>latitude</th>\n",
       "      <th>company</th>\n",
       "      <th>location</th>\n",
       "      <th>industry</th>\n",
       "      <th>state</th>\n",
       "      <th>city</th>\n",
       "    </tr>\n",
       "  </thead>\n",
       "  <tbody>\n",
       "    <tr>\n",
       "      <th>0</th>\n",
       "      <td>-94.2088</td>\n",
       "      <td>36.3729</td>\n",
       "      <td>Walmart</td>\n",
       "      <td>Bentonville, AR</td>\n",
       "      <td>General Merchandisers</td>\n",
       "      <td>AR</td>\n",
       "      <td>Bentonville</td>\n",
       "    </tr>\n",
       "    <tr>\n",
       "      <th>1</th>\n",
       "      <td>-96.9489</td>\n",
       "      <td>32.8140</td>\n",
       "      <td>Exxon Mobil</td>\n",
       "      <td>Irving, TX</td>\n",
       "      <td>Petroleum Refining</td>\n",
       "      <td>TX</td>\n",
       "      <td>Irving</td>\n",
       "    </tr>\n",
       "    <tr>\n",
       "      <th>2</th>\n",
       "      <td>-121.9780</td>\n",
       "      <td>37.7799</td>\n",
       "      <td>Chevron</td>\n",
       "      <td>San Ramon, CA</td>\n",
       "      <td>Petroleum Refining</td>\n",
       "      <td>CA</td>\n",
       "      <td>San Ramon</td>\n",
       "    </tr>\n",
       "    <tr>\n",
       "      <th>3</th>\n",
       "      <td>-95.9980</td>\n",
       "      <td>41.2524</td>\n",
       "      <td>Berkshire Hathaway</td>\n",
       "      <td>Omaha, NE</td>\n",
       "      <td>Insurance: Property and Casualty (Stock)</td>\n",
       "      <td>NE</td>\n",
       "      <td>Omaha</td>\n",
       "    </tr>\n",
       "    <tr>\n",
       "      <th>4</th>\n",
       "      <td>-122.0320</td>\n",
       "      <td>37.3230</td>\n",
       "      <td>Apple</td>\n",
       "      <td>Cupertino, CA</td>\n",
       "      <td>Computers, Office Equipment</td>\n",
       "      <td>CA</td>\n",
       "      <td>Cupertino</td>\n",
       "    </tr>\n",
       "    <tr>\n",
       "      <th>...</th>\n",
       "      <td>...</td>\n",
       "      <td>...</td>\n",
       "      <td>...</td>\n",
       "      <td>...</td>\n",
       "      <td>...</td>\n",
       "      <td>...</td>\n",
       "      <td>...</td>\n",
       "    </tr>\n",
       "    <tr>\n",
       "      <th>995</th>\n",
       "      <td>-73.7629</td>\n",
       "      <td>41.0340</td>\n",
       "      <td>Universal American</td>\n",
       "      <td>White Plains, NY</td>\n",
       "      <td>Health Care: Insurance and Managed Care</td>\n",
       "      <td>NY</td>\n",
       "      <td>White Plains</td>\n",
       "    </tr>\n",
       "    <tr>\n",
       "      <th>996</th>\n",
       "      <td>-87.9790</td>\n",
       "      <td>41.9634</td>\n",
       "      <td>AAR</td>\n",
       "      <td>Wood Dale, IL</td>\n",
       "      <td>Aerospace and Defense</td>\n",
       "      <td>IL</td>\n",
       "      <td>Wood Dale</td>\n",
       "    </tr>\n",
       "    <tr>\n",
       "      <th>997</th>\n",
       "      <td>-74.7524</td>\n",
       "      <td>41.1465</td>\n",
       "      <td>Selective Insurance Group</td>\n",
       "      <td>Branchville, NJ</td>\n",
       "      <td>Insurance: Property and Casualty (Stock)</td>\n",
       "      <td>NJ</td>\n",
       "      <td>Branchville</td>\n",
       "    </tr>\n",
       "    <tr>\n",
       "      <th>998</th>\n",
       "      <td>-73.5387</td>\n",
       "      <td>41.0534</td>\n",
       "      <td>Gartner</td>\n",
       "      <td>Stamford, CT</td>\n",
       "      <td>Information Technology Services</td>\n",
       "      <td>CT</td>\n",
       "      <td>Stamford</td>\n",
       "    </tr>\n",
       "    <tr>\n",
       "      <th>999</th>\n",
       "      <td>-74.0059</td>\n",
       "      <td>40.7128</td>\n",
       "      <td>E*Trade Financial</td>\n",
       "      <td>New York, NY</td>\n",
       "      <td>Securities</td>\n",
       "      <td>NY</td>\n",
       "      <td>New York</td>\n",
       "    </tr>\n",
       "  </tbody>\n",
       "</table>\n",
       "<p>1000 rows × 7 columns</p>\n",
       "</div>"
      ],
      "text/plain": [
       "     longitude  latitude                    company          location  \\\n",
       "0     -94.2088   36.3729                    Walmart   Bentonville, AR   \n",
       "1     -96.9489   32.8140                Exxon Mobil        Irving, TX   \n",
       "2    -121.9780   37.7799                    Chevron     San Ramon, CA   \n",
       "3     -95.9980   41.2524         Berkshire Hathaway         Omaha, NE   \n",
       "4    -122.0320   37.3230                      Apple     Cupertino, CA   \n",
       "..         ...       ...                        ...               ...   \n",
       "995   -73.7629   41.0340         Universal American  White Plains, NY   \n",
       "996   -87.9790   41.9634                        AAR     Wood Dale, IL   \n",
       "997   -74.7524   41.1465  Selective Insurance Group   Branchville, NJ   \n",
       "998   -73.5387   41.0534                    Gartner      Stamford, CT   \n",
       "999   -74.0059   40.7128          E*Trade Financial      New York, NY   \n",
       "\n",
       "                                     industry state          city  \n",
       "0                       General Merchandisers    AR   Bentonville  \n",
       "1                          Petroleum Refining    TX        Irving  \n",
       "2                          Petroleum Refining    CA     San Ramon  \n",
       "3    Insurance: Property and Casualty (Stock)    NE         Omaha  \n",
       "4                 Computers, Office Equipment    CA     Cupertino  \n",
       "..                                        ...   ...           ...  \n",
       "995   Health Care: Insurance and Managed Care    NY  White Plains  \n",
       "996                     Aerospace and Defense    IL     Wood Dale  \n",
       "997  Insurance: Property and Casualty (Stock)    NJ   Branchville  \n",
       "998           Information Technology Services    CT      Stamford  \n",
       "999                                Securities    NY      New York  \n",
       "\n",
       "[1000 rows x 7 columns]"
      ]
     },
     "execution_count": 7,
     "metadata": {},
     "output_type": "execute_result"
    }
   ],
   "source": [
    "TOP = pd.read_csv('TopCompanies.csv')\n",
    "TOP"
   ]
  },
  {
   "cell_type": "markdown",
   "id": "1bbad368-2e90-44ea-8ca8-3fab6ef79899",
   "metadata": {},
   "source": [
    "#### 2) Adjust the index starting from 0 to 1"
   ]
  },
  {
   "cell_type": "code",
   "execution_count": 10,
   "id": "ece69295-8b93-4e4a-948c-4decdc8e85ff",
   "metadata": {},
   "outputs": [
    {
     "data": {
      "text/html": [
       "<div>\n",
       "<style scoped>\n",
       "    .dataframe tbody tr th:only-of-type {\n",
       "        vertical-align: middle;\n",
       "    }\n",
       "\n",
       "    .dataframe tbody tr th {\n",
       "        vertical-align: top;\n",
       "    }\n",
       "\n",
       "    .dataframe thead th {\n",
       "        text-align: right;\n",
       "    }\n",
       "</style>\n",
       "<table border=\"1\" class=\"dataframe\">\n",
       "  <thead>\n",
       "    <tr style=\"text-align: right;\">\n",
       "      <th></th>\n",
       "      <th>longitude</th>\n",
       "      <th>latitude</th>\n",
       "      <th>company</th>\n",
       "      <th>location</th>\n",
       "      <th>industry</th>\n",
       "      <th>state</th>\n",
       "      <th>city</th>\n",
       "    </tr>\n",
       "  </thead>\n",
       "  <tbody>\n",
       "    <tr>\n",
       "      <th>1</th>\n",
       "      <td>-94.2088</td>\n",
       "      <td>36.3729</td>\n",
       "      <td>Walmart</td>\n",
       "      <td>Bentonville, AR</td>\n",
       "      <td>General Merchandisers</td>\n",
       "      <td>AR</td>\n",
       "      <td>Bentonville</td>\n",
       "    </tr>\n",
       "    <tr>\n",
       "      <th>2</th>\n",
       "      <td>-96.9489</td>\n",
       "      <td>32.8140</td>\n",
       "      <td>Exxon Mobil</td>\n",
       "      <td>Irving, TX</td>\n",
       "      <td>Petroleum Refining</td>\n",
       "      <td>TX</td>\n",
       "      <td>Irving</td>\n",
       "    </tr>\n",
       "    <tr>\n",
       "      <th>3</th>\n",
       "      <td>-121.9780</td>\n",
       "      <td>37.7799</td>\n",
       "      <td>Chevron</td>\n",
       "      <td>San Ramon, CA</td>\n",
       "      <td>Petroleum Refining</td>\n",
       "      <td>CA</td>\n",
       "      <td>San Ramon</td>\n",
       "    </tr>\n",
       "    <tr>\n",
       "      <th>4</th>\n",
       "      <td>-95.9980</td>\n",
       "      <td>41.2524</td>\n",
       "      <td>Berkshire Hathaway</td>\n",
       "      <td>Omaha, NE</td>\n",
       "      <td>Insurance: Property and Casualty (Stock)</td>\n",
       "      <td>NE</td>\n",
       "      <td>Omaha</td>\n",
       "    </tr>\n",
       "    <tr>\n",
       "      <th>5</th>\n",
       "      <td>-122.0320</td>\n",
       "      <td>37.3230</td>\n",
       "      <td>Apple</td>\n",
       "      <td>Cupertino, CA</td>\n",
       "      <td>Computers, Office Equipment</td>\n",
       "      <td>CA</td>\n",
       "      <td>Cupertino</td>\n",
       "    </tr>\n",
       "    <tr>\n",
       "      <th>...</th>\n",
       "      <td>...</td>\n",
       "      <td>...</td>\n",
       "      <td>...</td>\n",
       "      <td>...</td>\n",
       "      <td>...</td>\n",
       "      <td>...</td>\n",
       "      <td>...</td>\n",
       "    </tr>\n",
       "    <tr>\n",
       "      <th>996</th>\n",
       "      <td>-73.7629</td>\n",
       "      <td>41.0340</td>\n",
       "      <td>Universal American</td>\n",
       "      <td>White Plains, NY</td>\n",
       "      <td>Health Care: Insurance and Managed Care</td>\n",
       "      <td>NY</td>\n",
       "      <td>White Plains</td>\n",
       "    </tr>\n",
       "    <tr>\n",
       "      <th>997</th>\n",
       "      <td>-87.9790</td>\n",
       "      <td>41.9634</td>\n",
       "      <td>AAR</td>\n",
       "      <td>Wood Dale, IL</td>\n",
       "      <td>Aerospace and Defense</td>\n",
       "      <td>IL</td>\n",
       "      <td>Wood Dale</td>\n",
       "    </tr>\n",
       "    <tr>\n",
       "      <th>998</th>\n",
       "      <td>-74.7524</td>\n",
       "      <td>41.1465</td>\n",
       "      <td>Selective Insurance Group</td>\n",
       "      <td>Branchville, NJ</td>\n",
       "      <td>Insurance: Property and Casualty (Stock)</td>\n",
       "      <td>NJ</td>\n",
       "      <td>Branchville</td>\n",
       "    </tr>\n",
       "    <tr>\n",
       "      <th>999</th>\n",
       "      <td>-73.5387</td>\n",
       "      <td>41.0534</td>\n",
       "      <td>Gartner</td>\n",
       "      <td>Stamford, CT</td>\n",
       "      <td>Information Technology Services</td>\n",
       "      <td>CT</td>\n",
       "      <td>Stamford</td>\n",
       "    </tr>\n",
       "    <tr>\n",
       "      <th>1000</th>\n",
       "      <td>-74.0059</td>\n",
       "      <td>40.7128</td>\n",
       "      <td>E*Trade Financial</td>\n",
       "      <td>New York, NY</td>\n",
       "      <td>Securities</td>\n",
       "      <td>NY</td>\n",
       "      <td>New York</td>\n",
       "    </tr>\n",
       "  </tbody>\n",
       "</table>\n",
       "<p>1000 rows × 7 columns</p>\n",
       "</div>"
      ],
      "text/plain": [
       "      longitude  latitude                    company          location  \\\n",
       "1      -94.2088   36.3729                    Walmart   Bentonville, AR   \n",
       "2      -96.9489   32.8140                Exxon Mobil        Irving, TX   \n",
       "3     -121.9780   37.7799                    Chevron     San Ramon, CA   \n",
       "4      -95.9980   41.2524         Berkshire Hathaway         Omaha, NE   \n",
       "5     -122.0320   37.3230                      Apple     Cupertino, CA   \n",
       "...         ...       ...                        ...               ...   \n",
       "996    -73.7629   41.0340         Universal American  White Plains, NY   \n",
       "997    -87.9790   41.9634                        AAR     Wood Dale, IL   \n",
       "998    -74.7524   41.1465  Selective Insurance Group   Branchville, NJ   \n",
       "999    -73.5387   41.0534                    Gartner      Stamford, CT   \n",
       "1000   -74.0059   40.7128          E*Trade Financial      New York, NY   \n",
       "\n",
       "                                      industry state          city  \n",
       "1                        General Merchandisers    AR   Bentonville  \n",
       "2                           Petroleum Refining    TX        Irving  \n",
       "3                           Petroleum Refining    CA     San Ramon  \n",
       "4     Insurance: Property and Casualty (Stock)    NE         Omaha  \n",
       "5                  Computers, Office Equipment    CA     Cupertino  \n",
       "...                                        ...   ...           ...  \n",
       "996    Health Care: Insurance and Managed Care    NY  White Plains  \n",
       "997                      Aerospace and Defense    IL     Wood Dale  \n",
       "998   Insurance: Property and Casualty (Stock)    NJ   Branchville  \n",
       "999            Information Technology Services    CT      Stamford  \n",
       "1000                                Securities    NY      New York  \n",
       "\n",
       "[1000 rows x 7 columns]"
      ]
     },
     "execution_count": 10,
     "metadata": {},
     "output_type": "execute_result"
    }
   ],
   "source": [
    "TOP.index = TOP.index + 1\n",
    "TOP"
   ]
  },
  {
   "cell_type": "markdown",
   "id": "022c0388-fa1e-4634-a85b-6a262dd50585",
   "metadata": {},
   "source": [
    "#### 3) Import second dataset of Fortune 500 companies in the United States, including their rank, revenues, and profits etc."
   ]
  },
  {
   "cell_type": "code",
   "execution_count": 16,
   "id": "3fb4ce9b-ace1-404c-875d-b53d3636bab1",
   "metadata": {},
   "outputs": [
    {
     "data": {
      "text/html": [
       "<div>\n",
       "<style scoped>\n",
       "    .dataframe tbody tr th:only-of-type {\n",
       "        vertical-align: middle;\n",
       "    }\n",
       "\n",
       "    .dataframe tbody tr th {\n",
       "        vertical-align: top;\n",
       "    }\n",
       "\n",
       "    .dataframe thead th {\n",
       "        text-align: right;\n",
       "    }\n",
       "</style>\n",
       "<table border=\"1\" class=\"dataframe\">\n",
       "  <thead>\n",
       "    <tr style=\"text-align: right;\">\n",
       "      <th></th>\n",
       "      <th>rank</th>\n",
       "      <th>company</th>\n",
       "      <th>employees</th>\n",
       "      <th>previousrank</th>\n",
       "      <th>revenues</th>\n",
       "      <th>revenuechange</th>\n",
       "      <th>profits</th>\n",
       "      <th>profitschange</th>\n",
       "      <th>assets</th>\n",
       "      <th>marketvalue</th>\n",
       "    </tr>\n",
       "  </thead>\n",
       "  <tbody>\n",
       "    <tr>\n",
       "      <th>0</th>\n",
       "      <td>1</td>\n",
       "      <td>Walmart</td>\n",
       "      <td>2,300,000</td>\n",
       "      <td>1.0</td>\n",
       "      <td>$485,873.00</td>\n",
       "      <td>0.80%</td>\n",
       "      <td>$13,643.00</td>\n",
       "      <td>-7.20%</td>\n",
       "      <td>$198,825.00</td>\n",
       "      <td>$218,619.00</td>\n",
       "    </tr>\n",
       "    <tr>\n",
       "      <th>1</th>\n",
       "      <td>2</td>\n",
       "      <td>Berkshire Hathaway</td>\n",
       "      <td>367,700</td>\n",
       "      <td>4.0</td>\n",
       "      <td>$223,604.00</td>\n",
       "      <td>6.10%</td>\n",
       "      <td>$24,074.00</td>\n",
       "      <td>0.00%</td>\n",
       "      <td>$620,854.00</td>\n",
       "      <td>$411,035.00</td>\n",
       "    </tr>\n",
       "    <tr>\n",
       "      <th>2</th>\n",
       "      <td>3</td>\n",
       "      <td>Apple</td>\n",
       "      <td>116,000</td>\n",
       "      <td>3.0</td>\n",
       "      <td>$215,639.00</td>\n",
       "      <td>-7.70%</td>\n",
       "      <td>$45,687.00</td>\n",
       "      <td>-14.40%</td>\n",
       "      <td>$321,686.00</td>\n",
       "      <td>$753,718.00</td>\n",
       "    </tr>\n",
       "    <tr>\n",
       "      <th>3</th>\n",
       "      <td>4</td>\n",
       "      <td>Exxon Mobil</td>\n",
       "      <td>72,700</td>\n",
       "      <td>2.0</td>\n",
       "      <td>$205,004.00</td>\n",
       "      <td>-16.70%</td>\n",
       "      <td>$7,840.00</td>\n",
       "      <td>-51.50%</td>\n",
       "      <td>$330,314.00</td>\n",
       "      <td>$340,056.00</td>\n",
       "    </tr>\n",
       "    <tr>\n",
       "      <th>4</th>\n",
       "      <td>5</td>\n",
       "      <td>McKesson</td>\n",
       "      <td>68,000</td>\n",
       "      <td>5.0</td>\n",
       "      <td>$192,487.00</td>\n",
       "      <td>6.20%</td>\n",
       "      <td>$2,258.00</td>\n",
       "      <td>53.00%</td>\n",
       "      <td>$56,563.00</td>\n",
       "      <td>$31,439.00</td>\n",
       "    </tr>\n",
       "    <tr>\n",
       "      <th>...</th>\n",
       "      <td>...</td>\n",
       "      <td>...</td>\n",
       "      <td>...</td>\n",
       "      <td>...</td>\n",
       "      <td>...</td>\n",
       "      <td>...</td>\n",
       "      <td>...</td>\n",
       "      <td>...</td>\n",
       "      <td>...</td>\n",
       "      <td>...</td>\n",
       "    </tr>\n",
       "    <tr>\n",
       "      <th>495</th>\n",
       "      <td>496</td>\n",
       "      <td>Michaels Cos.</td>\n",
       "      <td>31,000</td>\n",
       "      <td>517.0</td>\n",
       "      <td>$5,197.00</td>\n",
       "      <td>5.80%</td>\n",
       "      <td>$378.20</td>\n",
       "      <td>4.20%</td>\n",
       "      <td>$2,148.00</td>\n",
       "      <td>$4,229.00</td>\n",
       "    </tr>\n",
       "    <tr>\n",
       "      <th>496</th>\n",
       "      <td>497</td>\n",
       "      <td>Toll Brothers</td>\n",
       "      <td>4,200</td>\n",
       "      <td>576.0</td>\n",
       "      <td>$5,170.00</td>\n",
       "      <td>23.90%</td>\n",
       "      <td>$382.10</td>\n",
       "      <td>5.20%</td>\n",
       "      <td>$9,737.00</td>\n",
       "      <td>$5,872.00</td>\n",
       "    </tr>\n",
       "    <tr>\n",
       "      <th>497</th>\n",
       "      <td>498</td>\n",
       "      <td>Yahoo</td>\n",
       "      <td>8,500</td>\n",
       "      <td>513.0</td>\n",
       "      <td>$5,169.00</td>\n",
       "      <td>4.00%</td>\n",
       "      <td>($214.30)</td>\n",
       "      <td>-</td>\n",
       "      <td>$48,083.00</td>\n",
       "      <td>$44,391.00</td>\n",
       "    </tr>\n",
       "    <tr>\n",
       "      <th>498</th>\n",
       "      <td>499</td>\n",
       "      <td>Vistra Energy</td>\n",
       "      <td>4,431</td>\n",
       "      <td>NaN</td>\n",
       "      <td>$5,164.00</td>\n",
       "      <td>-</td>\n",
       "      <td>-</td>\n",
       "      <td>-</td>\n",
       "      <td>$15,167.00</td>\n",
       "      <td>$6,968.00</td>\n",
       "    </tr>\n",
       "    <tr>\n",
       "      <th>499</th>\n",
       "      <td>500</td>\n",
       "      <td>ABM Industries</td>\n",
       "      <td>110,000</td>\n",
       "      <td>485.0</td>\n",
       "      <td>$5,145.00</td>\n",
       "      <td>-2.80%</td>\n",
       "      <td>$57.20</td>\n",
       "      <td>-25.00%</td>\n",
       "      <td>$2,281.00</td>\n",
       "      <td>$2,428.00</td>\n",
       "    </tr>\n",
       "  </tbody>\n",
       "</table>\n",
       "<p>500 rows × 10 columns</p>\n",
       "</div>"
      ],
      "text/plain": [
       "     rank             company  employees  previousrank      revenues  \\\n",
       "0       1             Walmart  2,300,000           1.0  $485,873.00    \n",
       "1       2  Berkshire Hathaway    367,700           4.0  $223,604.00    \n",
       "2       3               Apple    116,000           3.0  $215,639.00    \n",
       "3       4         Exxon Mobil     72,700           2.0  $205,004.00    \n",
       "4       5            McKesson     68,000           5.0  $192,487.00    \n",
       "..    ...                 ...        ...           ...           ...   \n",
       "495   496       Michaels Cos.     31,000         517.0    $5,197.00    \n",
       "496   497       Toll Brothers      4,200         576.0    $5,170.00    \n",
       "497   498               Yahoo      8,500         513.0    $5,169.00    \n",
       "498   499       Vistra Energy      4,431           NaN    $5,164.00    \n",
       "499   500      ABM Industries    110,000         485.0    $5,145.00    \n",
       "\n",
       "    revenuechange      profits profitschange        assets   marketvalue  \n",
       "0           0.80%  $13,643.00         -7.20%  $198,825.00   $218,619.00   \n",
       "1           6.10%  $24,074.00          0.00%  $620,854.00   $411,035.00   \n",
       "2          -7.70%  $45,687.00        -14.40%  $321,686.00   $753,718.00   \n",
       "3         -16.70%   $7,840.00        -51.50%  $330,314.00   $340,056.00   \n",
       "4           6.20%   $2,258.00         53.00%   $56,563.00    $31,439.00   \n",
       "..            ...          ...           ...           ...           ...  \n",
       "495         5.80%     $378.20          4.20%    $2,148.00     $4,229.00   \n",
       "496        23.90%     $382.10          5.20%    $9,737.00     $5,872.00   \n",
       "497         4.00%    ($214.30)             -   $48,083.00    $44,391.00   \n",
       "498             -            -             -   $15,167.00     $6,968.00   \n",
       "499        -2.80%      $57.20        -25.00%    $2,281.00     $2,428.00   \n",
       "\n",
       "[500 rows x 10 columns]"
      ]
     },
     "execution_count": 16,
     "metadata": {},
     "output_type": "execute_result"
    }
   ],
   "source": [
    "F500 = pd.read_csv('F500.csv')\n",
    "F500"
   ]
  },
  {
   "cell_type": "code",
   "execution_count": 18,
   "id": "36707d20-8c43-443f-b876-8a4805dcfd50",
   "metadata": {},
   "outputs": [
    {
     "data": {
      "text/html": [
       "<div>\n",
       "<style scoped>\n",
       "    .dataframe tbody tr th:only-of-type {\n",
       "        vertical-align: middle;\n",
       "    }\n",
       "\n",
       "    .dataframe tbody tr th {\n",
       "        vertical-align: top;\n",
       "    }\n",
       "\n",
       "    .dataframe thead th {\n",
       "        text-align: right;\n",
       "    }\n",
       "</style>\n",
       "<table border=\"1\" class=\"dataframe\">\n",
       "  <thead>\n",
       "    <tr style=\"text-align: right;\">\n",
       "      <th></th>\n",
       "      <th>company</th>\n",
       "      <th>employees</th>\n",
       "      <th>previousrank</th>\n",
       "      <th>revenues</th>\n",
       "      <th>revenuechange</th>\n",
       "      <th>profits</th>\n",
       "      <th>profitschange</th>\n",
       "      <th>assets</th>\n",
       "      <th>marketvalue</th>\n",
       "    </tr>\n",
       "    <tr>\n",
       "      <th>rank</th>\n",
       "      <th></th>\n",
       "      <th></th>\n",
       "      <th></th>\n",
       "      <th></th>\n",
       "      <th></th>\n",
       "      <th></th>\n",
       "      <th></th>\n",
       "      <th></th>\n",
       "      <th></th>\n",
       "    </tr>\n",
       "  </thead>\n",
       "  <tbody>\n",
       "    <tr>\n",
       "      <th>1</th>\n",
       "      <td>Walmart</td>\n",
       "      <td>2,300,000</td>\n",
       "      <td>1.0</td>\n",
       "      <td>$485,873.00</td>\n",
       "      <td>0.80%</td>\n",
       "      <td>$13,643.00</td>\n",
       "      <td>-7.20%</td>\n",
       "      <td>$198,825.00</td>\n",
       "      <td>$218,619.00</td>\n",
       "    </tr>\n",
       "    <tr>\n",
       "      <th>2</th>\n",
       "      <td>Berkshire Hathaway</td>\n",
       "      <td>367,700</td>\n",
       "      <td>4.0</td>\n",
       "      <td>$223,604.00</td>\n",
       "      <td>6.10%</td>\n",
       "      <td>$24,074.00</td>\n",
       "      <td>0.00%</td>\n",
       "      <td>$620,854.00</td>\n",
       "      <td>$411,035.00</td>\n",
       "    </tr>\n",
       "    <tr>\n",
       "      <th>3</th>\n",
       "      <td>Apple</td>\n",
       "      <td>116,000</td>\n",
       "      <td>3.0</td>\n",
       "      <td>$215,639.00</td>\n",
       "      <td>-7.70%</td>\n",
       "      <td>$45,687.00</td>\n",
       "      <td>-14.40%</td>\n",
       "      <td>$321,686.00</td>\n",
       "      <td>$753,718.00</td>\n",
       "    </tr>\n",
       "    <tr>\n",
       "      <th>4</th>\n",
       "      <td>Exxon Mobil</td>\n",
       "      <td>72,700</td>\n",
       "      <td>2.0</td>\n",
       "      <td>$205,004.00</td>\n",
       "      <td>-16.70%</td>\n",
       "      <td>$7,840.00</td>\n",
       "      <td>-51.50%</td>\n",
       "      <td>$330,314.00</td>\n",
       "      <td>$340,056.00</td>\n",
       "    </tr>\n",
       "    <tr>\n",
       "      <th>5</th>\n",
       "      <td>McKesson</td>\n",
       "      <td>68,000</td>\n",
       "      <td>5.0</td>\n",
       "      <td>$192,487.00</td>\n",
       "      <td>6.20%</td>\n",
       "      <td>$2,258.00</td>\n",
       "      <td>53.00%</td>\n",
       "      <td>$56,563.00</td>\n",
       "      <td>$31,439.00</td>\n",
       "    </tr>\n",
       "    <tr>\n",
       "      <th>...</th>\n",
       "      <td>...</td>\n",
       "      <td>...</td>\n",
       "      <td>...</td>\n",
       "      <td>...</td>\n",
       "      <td>...</td>\n",
       "      <td>...</td>\n",
       "      <td>...</td>\n",
       "      <td>...</td>\n",
       "      <td>...</td>\n",
       "    </tr>\n",
       "    <tr>\n",
       "      <th>496</th>\n",
       "      <td>Michaels Cos.</td>\n",
       "      <td>31,000</td>\n",
       "      <td>517.0</td>\n",
       "      <td>$5,197.00</td>\n",
       "      <td>5.80%</td>\n",
       "      <td>$378.20</td>\n",
       "      <td>4.20%</td>\n",
       "      <td>$2,148.00</td>\n",
       "      <td>$4,229.00</td>\n",
       "    </tr>\n",
       "    <tr>\n",
       "      <th>497</th>\n",
       "      <td>Toll Brothers</td>\n",
       "      <td>4,200</td>\n",
       "      <td>576.0</td>\n",
       "      <td>$5,170.00</td>\n",
       "      <td>23.90%</td>\n",
       "      <td>$382.10</td>\n",
       "      <td>5.20%</td>\n",
       "      <td>$9,737.00</td>\n",
       "      <td>$5,872.00</td>\n",
       "    </tr>\n",
       "    <tr>\n",
       "      <th>498</th>\n",
       "      <td>Yahoo</td>\n",
       "      <td>8,500</td>\n",
       "      <td>513.0</td>\n",
       "      <td>$5,169.00</td>\n",
       "      <td>4.00%</td>\n",
       "      <td>($214.30)</td>\n",
       "      <td>-</td>\n",
       "      <td>$48,083.00</td>\n",
       "      <td>$44,391.00</td>\n",
       "    </tr>\n",
       "    <tr>\n",
       "      <th>499</th>\n",
       "      <td>Vistra Energy</td>\n",
       "      <td>4,431</td>\n",
       "      <td>NaN</td>\n",
       "      <td>$5,164.00</td>\n",
       "      <td>-</td>\n",
       "      <td>-</td>\n",
       "      <td>-</td>\n",
       "      <td>$15,167.00</td>\n",
       "      <td>$6,968.00</td>\n",
       "    </tr>\n",
       "    <tr>\n",
       "      <th>500</th>\n",
       "      <td>ABM Industries</td>\n",
       "      <td>110,000</td>\n",
       "      <td>485.0</td>\n",
       "      <td>$5,145.00</td>\n",
       "      <td>-2.80%</td>\n",
       "      <td>$57.20</td>\n",
       "      <td>-25.00%</td>\n",
       "      <td>$2,281.00</td>\n",
       "      <td>$2,428.00</td>\n",
       "    </tr>\n",
       "  </tbody>\n",
       "</table>\n",
       "<p>500 rows × 9 columns</p>\n",
       "</div>"
      ],
      "text/plain": [
       "                 company  employees  previousrank      revenues revenuechange  \\\n",
       "rank                                                                            \n",
       "1                Walmart  2,300,000           1.0  $485,873.00          0.80%   \n",
       "2     Berkshire Hathaway    367,700           4.0  $223,604.00          6.10%   \n",
       "3                  Apple    116,000           3.0  $215,639.00         -7.70%   \n",
       "4            Exxon Mobil     72,700           2.0  $205,004.00        -16.70%   \n",
       "5               McKesson     68,000           5.0  $192,487.00          6.20%   \n",
       "...                  ...        ...           ...           ...           ...   \n",
       "496        Michaels Cos.     31,000         517.0    $5,197.00          5.80%   \n",
       "497        Toll Brothers      4,200         576.0    $5,170.00         23.90%   \n",
       "498                Yahoo      8,500         513.0    $5,169.00          4.00%   \n",
       "499        Vistra Energy      4,431           NaN    $5,164.00              -   \n",
       "500       ABM Industries    110,000         485.0    $5,145.00         -2.80%   \n",
       "\n",
       "          profits profitschange        assets   marketvalue  \n",
       "rank                                                         \n",
       "1     $13,643.00         -7.20%  $198,825.00   $218,619.00   \n",
       "2     $24,074.00          0.00%  $620,854.00   $411,035.00   \n",
       "3     $45,687.00        -14.40%  $321,686.00   $753,718.00   \n",
       "4      $7,840.00        -51.50%  $330,314.00   $340,056.00   \n",
       "5      $2,258.00         53.00%   $56,563.00    $31,439.00   \n",
       "...           ...           ...           ...           ...  \n",
       "496      $378.20          4.20%    $2,148.00     $4,229.00   \n",
       "497      $382.10          5.20%    $9,737.00     $5,872.00   \n",
       "498     ($214.30)             -   $48,083.00    $44,391.00   \n",
       "499             -             -   $15,167.00     $6,968.00   \n",
       "500       $57.20        -25.00%    $2,281.00     $2,428.00   \n",
       "\n",
       "[500 rows x 9 columns]"
      ]
     },
     "execution_count": 18,
     "metadata": {},
     "output_type": "execute_result"
    }
   ],
   "source": [
    "F500 = F500.set_index('rank')\n",
    "F500"
   ]
  },
  {
   "cell_type": "markdown",
   "id": "dddb7d8a-cd1f-4581-9041-796e5549e802",
   "metadata": {},
   "source": [
    "#### 4) Clean the second dataset for the revenue to numeric input"
   ]
  },
  {
   "cell_type": "code",
   "execution_count": 21,
   "id": "85ba97b0-c616-4c4f-ba19-66274f71ecf5",
   "metadata": {},
   "outputs": [
    {
     "data": {
      "text/html": [
       "<div>\n",
       "<style scoped>\n",
       "    .dataframe tbody tr th:only-of-type {\n",
       "        vertical-align: middle;\n",
       "    }\n",
       "\n",
       "    .dataframe tbody tr th {\n",
       "        vertical-align: top;\n",
       "    }\n",
       "\n",
       "    .dataframe thead th {\n",
       "        text-align: right;\n",
       "    }\n",
       "</style>\n",
       "<table border=\"1\" class=\"dataframe\">\n",
       "  <thead>\n",
       "    <tr style=\"text-align: right;\">\n",
       "      <th></th>\n",
       "      <th>company</th>\n",
       "      <th>employees</th>\n",
       "      <th>previousrank</th>\n",
       "      <th>revenues</th>\n",
       "      <th>revenuechange</th>\n",
       "      <th>profits</th>\n",
       "      <th>profitschange</th>\n",
       "      <th>assets</th>\n",
       "      <th>marketvalue</th>\n",
       "    </tr>\n",
       "    <tr>\n",
       "      <th>rank</th>\n",
       "      <th></th>\n",
       "      <th></th>\n",
       "      <th></th>\n",
       "      <th></th>\n",
       "      <th></th>\n",
       "      <th></th>\n",
       "      <th></th>\n",
       "      <th></th>\n",
       "      <th></th>\n",
       "    </tr>\n",
       "  </thead>\n",
       "  <tbody>\n",
       "    <tr>\n",
       "      <th>1</th>\n",
       "      <td>Walmart</td>\n",
       "      <td>2,300,000</td>\n",
       "      <td>1.0</td>\n",
       "      <td>485873.0</td>\n",
       "      <td>0.80%</td>\n",
       "      <td>$13,643.00</td>\n",
       "      <td>-7.20%</td>\n",
       "      <td>$198,825.00</td>\n",
       "      <td>$218,619.00</td>\n",
       "    </tr>\n",
       "    <tr>\n",
       "      <th>2</th>\n",
       "      <td>Berkshire Hathaway</td>\n",
       "      <td>367,700</td>\n",
       "      <td>4.0</td>\n",
       "      <td>223604.0</td>\n",
       "      <td>6.10%</td>\n",
       "      <td>$24,074.00</td>\n",
       "      <td>0.00%</td>\n",
       "      <td>$620,854.00</td>\n",
       "      <td>$411,035.00</td>\n",
       "    </tr>\n",
       "    <tr>\n",
       "      <th>3</th>\n",
       "      <td>Apple</td>\n",
       "      <td>116,000</td>\n",
       "      <td>3.0</td>\n",
       "      <td>215639.0</td>\n",
       "      <td>-7.70%</td>\n",
       "      <td>$45,687.00</td>\n",
       "      <td>-14.40%</td>\n",
       "      <td>$321,686.00</td>\n",
       "      <td>$753,718.00</td>\n",
       "    </tr>\n",
       "    <tr>\n",
       "      <th>4</th>\n",
       "      <td>Exxon Mobil</td>\n",
       "      <td>72,700</td>\n",
       "      <td>2.0</td>\n",
       "      <td>205004.0</td>\n",
       "      <td>-16.70%</td>\n",
       "      <td>$7,840.00</td>\n",
       "      <td>-51.50%</td>\n",
       "      <td>$330,314.00</td>\n",
       "      <td>$340,056.00</td>\n",
       "    </tr>\n",
       "    <tr>\n",
       "      <th>5</th>\n",
       "      <td>McKesson</td>\n",
       "      <td>68,000</td>\n",
       "      <td>5.0</td>\n",
       "      <td>192487.0</td>\n",
       "      <td>6.20%</td>\n",
       "      <td>$2,258.00</td>\n",
       "      <td>53.00%</td>\n",
       "      <td>$56,563.00</td>\n",
       "      <td>$31,439.00</td>\n",
       "    </tr>\n",
       "    <tr>\n",
       "      <th>...</th>\n",
       "      <td>...</td>\n",
       "      <td>...</td>\n",
       "      <td>...</td>\n",
       "      <td>...</td>\n",
       "      <td>...</td>\n",
       "      <td>...</td>\n",
       "      <td>...</td>\n",
       "      <td>...</td>\n",
       "      <td>...</td>\n",
       "    </tr>\n",
       "    <tr>\n",
       "      <th>496</th>\n",
       "      <td>Michaels Cos.</td>\n",
       "      <td>31,000</td>\n",
       "      <td>517.0</td>\n",
       "      <td>5197.0</td>\n",
       "      <td>5.80%</td>\n",
       "      <td>$378.20</td>\n",
       "      <td>4.20%</td>\n",
       "      <td>$2,148.00</td>\n",
       "      <td>$4,229.00</td>\n",
       "    </tr>\n",
       "    <tr>\n",
       "      <th>497</th>\n",
       "      <td>Toll Brothers</td>\n",
       "      <td>4,200</td>\n",
       "      <td>576.0</td>\n",
       "      <td>5170.0</td>\n",
       "      <td>23.90%</td>\n",
       "      <td>$382.10</td>\n",
       "      <td>5.20%</td>\n",
       "      <td>$9,737.00</td>\n",
       "      <td>$5,872.00</td>\n",
       "    </tr>\n",
       "    <tr>\n",
       "      <th>498</th>\n",
       "      <td>Yahoo</td>\n",
       "      <td>8,500</td>\n",
       "      <td>513.0</td>\n",
       "      <td>5169.0</td>\n",
       "      <td>4.00%</td>\n",
       "      <td>($214.30)</td>\n",
       "      <td>-</td>\n",
       "      <td>$48,083.00</td>\n",
       "      <td>$44,391.00</td>\n",
       "    </tr>\n",
       "    <tr>\n",
       "      <th>499</th>\n",
       "      <td>Vistra Energy</td>\n",
       "      <td>4,431</td>\n",
       "      <td>NaN</td>\n",
       "      <td>5164.0</td>\n",
       "      <td>-</td>\n",
       "      <td>-</td>\n",
       "      <td>-</td>\n",
       "      <td>$15,167.00</td>\n",
       "      <td>$6,968.00</td>\n",
       "    </tr>\n",
       "    <tr>\n",
       "      <th>500</th>\n",
       "      <td>ABM Industries</td>\n",
       "      <td>110,000</td>\n",
       "      <td>485.0</td>\n",
       "      <td>5145.0</td>\n",
       "      <td>-2.80%</td>\n",
       "      <td>$57.20</td>\n",
       "      <td>-25.00%</td>\n",
       "      <td>$2,281.00</td>\n",
       "      <td>$2,428.00</td>\n",
       "    </tr>\n",
       "  </tbody>\n",
       "</table>\n",
       "<p>500 rows × 9 columns</p>\n",
       "</div>"
      ],
      "text/plain": [
       "                 company  employees  previousrank  revenues revenuechange  \\\n",
       "rank                                                                        \n",
       "1                Walmart  2,300,000           1.0  485873.0         0.80%   \n",
       "2     Berkshire Hathaway    367,700           4.0  223604.0         6.10%   \n",
       "3                  Apple    116,000           3.0  215639.0        -7.70%   \n",
       "4            Exxon Mobil     72,700           2.0  205004.0       -16.70%   \n",
       "5               McKesson     68,000           5.0  192487.0         6.20%   \n",
       "...                  ...        ...           ...       ...           ...   \n",
       "496        Michaels Cos.     31,000         517.0    5197.0         5.80%   \n",
       "497        Toll Brothers      4,200         576.0    5170.0        23.90%   \n",
       "498                Yahoo      8,500         513.0    5169.0         4.00%   \n",
       "499        Vistra Energy      4,431           NaN    5164.0             -   \n",
       "500       ABM Industries    110,000         485.0    5145.0        -2.80%   \n",
       "\n",
       "          profits profitschange        assets   marketvalue  \n",
       "rank                                                         \n",
       "1     $13,643.00         -7.20%  $198,825.00   $218,619.00   \n",
       "2     $24,074.00          0.00%  $620,854.00   $411,035.00   \n",
       "3     $45,687.00        -14.40%  $321,686.00   $753,718.00   \n",
       "4      $7,840.00        -51.50%  $330,314.00   $340,056.00   \n",
       "5      $2,258.00         53.00%   $56,563.00    $31,439.00   \n",
       "...           ...           ...           ...           ...  \n",
       "496      $378.20          4.20%    $2,148.00     $4,229.00   \n",
       "497      $382.10          5.20%    $9,737.00     $5,872.00   \n",
       "498     ($214.30)             -   $48,083.00    $44,391.00   \n",
       "499             -             -   $15,167.00     $6,968.00   \n",
       "500       $57.20        -25.00%    $2,281.00     $2,428.00   \n",
       "\n",
       "[500 rows x 9 columns]"
      ]
     },
     "execution_count": 21,
     "metadata": {},
     "output_type": "execute_result"
    }
   ],
   "source": [
    "F500['revenues'] = F500['revenues'].replace('[\\$,]', '', regex=True).astype(float)\n",
    "F500"
   ]
  },
  {
   "cell_type": "markdown",
   "id": "2cf2b0af-7f54-48ec-a78f-33a4dffe44d1",
   "metadata": {},
   "source": [
    "#### 5) Merge two datasets by company through inner join"
   ]
  },
  {
   "cell_type": "code",
   "execution_count": 24,
   "id": "7d507e1e-ef4f-421e-a722-117251c45033",
   "metadata": {},
   "outputs": [
    {
     "data": {
      "text/html": [
       "<div>\n",
       "<style scoped>\n",
       "    .dataframe tbody tr th:only-of-type {\n",
       "        vertical-align: middle;\n",
       "    }\n",
       "\n",
       "    .dataframe tbody tr th {\n",
       "        vertical-align: top;\n",
       "    }\n",
       "\n",
       "    .dataframe thead th {\n",
       "        text-align: right;\n",
       "    }\n",
       "</style>\n",
       "<table border=\"1\" class=\"dataframe\">\n",
       "  <thead>\n",
       "    <tr style=\"text-align: right;\">\n",
       "      <th></th>\n",
       "      <th>company</th>\n",
       "      <th>employees</th>\n",
       "      <th>previousrank</th>\n",
       "      <th>revenues</th>\n",
       "      <th>revenuechange</th>\n",
       "      <th>profits</th>\n",
       "      <th>profitschange</th>\n",
       "      <th>assets</th>\n",
       "      <th>marketvalue</th>\n",
       "      <th>longitude</th>\n",
       "      <th>latitude</th>\n",
       "      <th>location</th>\n",
       "      <th>industry</th>\n",
       "      <th>state</th>\n",
       "      <th>city</th>\n",
       "    </tr>\n",
       "  </thead>\n",
       "  <tbody>\n",
       "    <tr>\n",
       "      <th>0</th>\n",
       "      <td>Walmart</td>\n",
       "      <td>2,300,000</td>\n",
       "      <td>1.0</td>\n",
       "      <td>485873.0</td>\n",
       "      <td>0.80%</td>\n",
       "      <td>$13,643.00</td>\n",
       "      <td>-7.20%</td>\n",
       "      <td>$198,825.00</td>\n",
       "      <td>$218,619.00</td>\n",
       "      <td>-94.2088</td>\n",
       "      <td>36.3729</td>\n",
       "      <td>Bentonville, AR</td>\n",
       "      <td>General Merchandisers</td>\n",
       "      <td>AR</td>\n",
       "      <td>Bentonville</td>\n",
       "    </tr>\n",
       "    <tr>\n",
       "      <th>1</th>\n",
       "      <td>Berkshire Hathaway</td>\n",
       "      <td>367,700</td>\n",
       "      <td>4.0</td>\n",
       "      <td>223604.0</td>\n",
       "      <td>6.10%</td>\n",
       "      <td>$24,074.00</td>\n",
       "      <td>0.00%</td>\n",
       "      <td>$620,854.00</td>\n",
       "      <td>$411,035.00</td>\n",
       "      <td>-95.9980</td>\n",
       "      <td>41.2524</td>\n",
       "      <td>Omaha, NE</td>\n",
       "      <td>Insurance: Property and Casualty (Stock)</td>\n",
       "      <td>NE</td>\n",
       "      <td>Omaha</td>\n",
       "    </tr>\n",
       "    <tr>\n",
       "      <th>2</th>\n",
       "      <td>Apple</td>\n",
       "      <td>116,000</td>\n",
       "      <td>3.0</td>\n",
       "      <td>215639.0</td>\n",
       "      <td>-7.70%</td>\n",
       "      <td>$45,687.00</td>\n",
       "      <td>-14.40%</td>\n",
       "      <td>$321,686.00</td>\n",
       "      <td>$753,718.00</td>\n",
       "      <td>-122.0320</td>\n",
       "      <td>37.3230</td>\n",
       "      <td>Cupertino, CA</td>\n",
       "      <td>Computers, Office Equipment</td>\n",
       "      <td>CA</td>\n",
       "      <td>Cupertino</td>\n",
       "    </tr>\n",
       "    <tr>\n",
       "      <th>3</th>\n",
       "      <td>Exxon Mobil</td>\n",
       "      <td>72,700</td>\n",
       "      <td>2.0</td>\n",
       "      <td>205004.0</td>\n",
       "      <td>-16.70%</td>\n",
       "      <td>$7,840.00</td>\n",
       "      <td>-51.50%</td>\n",
       "      <td>$330,314.00</td>\n",
       "      <td>$340,056.00</td>\n",
       "      <td>-96.9489</td>\n",
       "      <td>32.8140</td>\n",
       "      <td>Irving, TX</td>\n",
       "      <td>Petroleum Refining</td>\n",
       "      <td>TX</td>\n",
       "      <td>Irving</td>\n",
       "    </tr>\n",
       "    <tr>\n",
       "      <th>4</th>\n",
       "      <td>McKesson</td>\n",
       "      <td>68,000</td>\n",
       "      <td>5.0</td>\n",
       "      <td>192487.0</td>\n",
       "      <td>6.20%</td>\n",
       "      <td>$2,258.00</td>\n",
       "      <td>53.00%</td>\n",
       "      <td>$56,563.00</td>\n",
       "      <td>$31,439.00</td>\n",
       "      <td>-122.4190</td>\n",
       "      <td>37.7749</td>\n",
       "      <td>San Francisco, CA</td>\n",
       "      <td>Wholesalers: Health Care</td>\n",
       "      <td>CA</td>\n",
       "      <td>San Francisco</td>\n",
       "    </tr>\n",
       "    <tr>\n",
       "      <th>...</th>\n",
       "      <td>...</td>\n",
       "      <td>...</td>\n",
       "      <td>...</td>\n",
       "      <td>...</td>\n",
       "      <td>...</td>\n",
       "      <td>...</td>\n",
       "      <td>...</td>\n",
       "      <td>...</td>\n",
       "      <td>...</td>\n",
       "      <td>...</td>\n",
       "      <td>...</td>\n",
       "      <td>...</td>\n",
       "      <td>...</td>\n",
       "      <td>...</td>\n",
       "      <td>...</td>\n",
       "    </tr>\n",
       "    <tr>\n",
       "      <th>469</th>\n",
       "      <td>Big Lots</td>\n",
       "      <td>23,150</td>\n",
       "      <td>495.0</td>\n",
       "      <td>5200.0</td>\n",
       "      <td>0.20%</td>\n",
       "      <td>$152.80</td>\n",
       "      <td>7.00%</td>\n",
       "      <td>$1,608.00</td>\n",
       "      <td>$2,180.00</td>\n",
       "      <td>-82.9988</td>\n",
       "      <td>39.9612</td>\n",
       "      <td>Columbus, OH</td>\n",
       "      <td>Specialty Retailers: Other</td>\n",
       "      <td>OH</td>\n",
       "      <td>Columbus</td>\n",
       "    </tr>\n",
       "    <tr>\n",
       "      <th>470</th>\n",
       "      <td>Michaels Cos.</td>\n",
       "      <td>31,000</td>\n",
       "      <td>517.0</td>\n",
       "      <td>5197.0</td>\n",
       "      <td>5.80%</td>\n",
       "      <td>$378.20</td>\n",
       "      <td>4.20%</td>\n",
       "      <td>$2,148.00</td>\n",
       "      <td>$4,229.00</td>\n",
       "      <td>-96.9489</td>\n",
       "      <td>32.8140</td>\n",
       "      <td>Irving, TX</td>\n",
       "      <td>Specialty Retailers: Other</td>\n",
       "      <td>TX</td>\n",
       "      <td>Irving</td>\n",
       "    </tr>\n",
       "    <tr>\n",
       "      <th>471</th>\n",
       "      <td>Toll Brothers</td>\n",
       "      <td>4,200</td>\n",
       "      <td>576.0</td>\n",
       "      <td>5170.0</td>\n",
       "      <td>23.90%</td>\n",
       "      <td>$382.10</td>\n",
       "      <td>5.20%</td>\n",
       "      <td>$9,737.00</td>\n",
       "      <td>$5,872.00</td>\n",
       "      <td>-75.1285</td>\n",
       "      <td>40.1784</td>\n",
       "      <td>Horsham, PA</td>\n",
       "      <td>Homebuilders</td>\n",
       "      <td>PA</td>\n",
       "      <td>Horsham</td>\n",
       "    </tr>\n",
       "    <tr>\n",
       "      <th>472</th>\n",
       "      <td>Yahoo</td>\n",
       "      <td>8,500</td>\n",
       "      <td>513.0</td>\n",
       "      <td>5169.0</td>\n",
       "      <td>4.00%</td>\n",
       "      <td>($214.30)</td>\n",
       "      <td>-</td>\n",
       "      <td>$48,083.00</td>\n",
       "      <td>$44,391.00</td>\n",
       "      <td>-122.0360</td>\n",
       "      <td>37.3688</td>\n",
       "      <td>Sunnyvale, CA</td>\n",
       "      <td>Internet Services and Retailing</td>\n",
       "      <td>CA</td>\n",
       "      <td>Sunnyvale</td>\n",
       "    </tr>\n",
       "    <tr>\n",
       "      <th>473</th>\n",
       "      <td>ABM Industries</td>\n",
       "      <td>110,000</td>\n",
       "      <td>485.0</td>\n",
       "      <td>5145.0</td>\n",
       "      <td>-2.80%</td>\n",
       "      <td>$57.20</td>\n",
       "      <td>-25.00%</td>\n",
       "      <td>$2,281.00</td>\n",
       "      <td>$2,428.00</td>\n",
       "      <td>-74.0059</td>\n",
       "      <td>40.7128</td>\n",
       "      <td>New York, NY</td>\n",
       "      <td>Diversified Outsourcing Services</td>\n",
       "      <td>NY</td>\n",
       "      <td>New York</td>\n",
       "    </tr>\n",
       "  </tbody>\n",
       "</table>\n",
       "<p>474 rows × 15 columns</p>\n",
       "</div>"
      ],
      "text/plain": [
       "                company  employees  previousrank  revenues revenuechange  \\\n",
       "0               Walmart  2,300,000           1.0  485873.0         0.80%   \n",
       "1    Berkshire Hathaway    367,700           4.0  223604.0         6.10%   \n",
       "2                 Apple    116,000           3.0  215639.0        -7.70%   \n",
       "3           Exxon Mobil     72,700           2.0  205004.0       -16.70%   \n",
       "4              McKesson     68,000           5.0  192487.0         6.20%   \n",
       "..                  ...        ...           ...       ...           ...   \n",
       "469            Big Lots     23,150         495.0    5200.0         0.20%   \n",
       "470       Michaels Cos.     31,000         517.0    5197.0         5.80%   \n",
       "471       Toll Brothers      4,200         576.0    5170.0        23.90%   \n",
       "472               Yahoo      8,500         513.0    5169.0         4.00%   \n",
       "473      ABM Industries    110,000         485.0    5145.0        -2.80%   \n",
       "\n",
       "         profits profitschange        assets   marketvalue  longitude  \\\n",
       "0    $13,643.00         -7.20%  $198,825.00   $218,619.00    -94.2088   \n",
       "1    $24,074.00          0.00%  $620,854.00   $411,035.00    -95.9980   \n",
       "2    $45,687.00        -14.40%  $321,686.00   $753,718.00   -122.0320   \n",
       "3     $7,840.00        -51.50%  $330,314.00   $340,056.00    -96.9489   \n",
       "4     $2,258.00         53.00%   $56,563.00    $31,439.00   -122.4190   \n",
       "..           ...           ...           ...           ...        ...   \n",
       "469     $152.80          7.00%    $1,608.00     $2,180.00    -82.9988   \n",
       "470     $378.20          4.20%    $2,148.00     $4,229.00    -96.9489   \n",
       "471     $382.10          5.20%    $9,737.00     $5,872.00    -75.1285   \n",
       "472    ($214.30)             -   $48,083.00    $44,391.00   -122.0360   \n",
       "473      $57.20        -25.00%    $2,281.00     $2,428.00    -74.0059   \n",
       "\n",
       "     latitude           location                                  industry  \\\n",
       "0     36.3729    Bentonville, AR                     General Merchandisers   \n",
       "1     41.2524          Omaha, NE  Insurance: Property and Casualty (Stock)   \n",
       "2     37.3230      Cupertino, CA               Computers, Office Equipment   \n",
       "3     32.8140         Irving, TX                        Petroleum Refining   \n",
       "4     37.7749  San Francisco, CA                  Wholesalers: Health Care   \n",
       "..        ...                ...                                       ...   \n",
       "469   39.9612       Columbus, OH                Specialty Retailers: Other   \n",
       "470   32.8140         Irving, TX                Specialty Retailers: Other   \n",
       "471   40.1784        Horsham, PA                              Homebuilders   \n",
       "472   37.3688      Sunnyvale, CA           Internet Services and Retailing   \n",
       "473   40.7128       New York, NY          Diversified Outsourcing Services   \n",
       "\n",
       "    state           city  \n",
       "0      AR    Bentonville  \n",
       "1      NE          Omaha  \n",
       "2      CA      Cupertino  \n",
       "3      TX         Irving  \n",
       "4      CA  San Francisco  \n",
       "..    ...            ...  \n",
       "469    OH       Columbus  \n",
       "470    TX         Irving  \n",
       "471    PA        Horsham  \n",
       "472    CA      Sunnyvale  \n",
       "473    NY       New York  \n",
       "\n",
       "[474 rows x 15 columns]"
      ]
     },
     "execution_count": 24,
     "metadata": {},
     "output_type": "execute_result"
    }
   ],
   "source": [
    "merged_500 = pd.merge(F500, TOP, how='inner')\n",
    "merged_500"
   ]
  },
  {
   "cell_type": "code",
   "execution_count": 26,
   "id": "7ee5a8df-7fae-416a-a3d3-ac297a25735a",
   "metadata": {},
   "outputs": [
    {
     "data": {
      "text/html": [
       "<div>\n",
       "<style scoped>\n",
       "    .dataframe tbody tr th:only-of-type {\n",
       "        vertical-align: middle;\n",
       "    }\n",
       "\n",
       "    .dataframe tbody tr th {\n",
       "        vertical-align: top;\n",
       "    }\n",
       "\n",
       "    .dataframe thead th {\n",
       "        text-align: right;\n",
       "    }\n",
       "</style>\n",
       "<table border=\"1\" class=\"dataframe\">\n",
       "  <thead>\n",
       "    <tr style=\"text-align: right;\">\n",
       "      <th></th>\n",
       "      <th>company</th>\n",
       "      <th>employees</th>\n",
       "      <th>previousrank</th>\n",
       "      <th>revenues</th>\n",
       "      <th>revenuechange</th>\n",
       "      <th>profits</th>\n",
       "      <th>profitschange</th>\n",
       "      <th>assets</th>\n",
       "      <th>marketvalue</th>\n",
       "      <th>longitude</th>\n",
       "      <th>latitude</th>\n",
       "      <th>location</th>\n",
       "      <th>industry</th>\n",
       "      <th>state</th>\n",
       "      <th>city</th>\n",
       "    </tr>\n",
       "    <tr>\n",
       "      <th>rank</th>\n",
       "      <th></th>\n",
       "      <th></th>\n",
       "      <th></th>\n",
       "      <th></th>\n",
       "      <th></th>\n",
       "      <th></th>\n",
       "      <th></th>\n",
       "      <th></th>\n",
       "      <th></th>\n",
       "      <th></th>\n",
       "      <th></th>\n",
       "      <th></th>\n",
       "      <th></th>\n",
       "      <th></th>\n",
       "      <th></th>\n",
       "    </tr>\n",
       "  </thead>\n",
       "  <tbody>\n",
       "    <tr>\n",
       "      <th>1</th>\n",
       "      <td>Walmart</td>\n",
       "      <td>2,300,000</td>\n",
       "      <td>1.0</td>\n",
       "      <td>485873.0</td>\n",
       "      <td>0.80%</td>\n",
       "      <td>$13,643.00</td>\n",
       "      <td>-7.20%</td>\n",
       "      <td>$198,825.00</td>\n",
       "      <td>$218,619.00</td>\n",
       "      <td>-94.2088</td>\n",
       "      <td>36.3729</td>\n",
       "      <td>Bentonville, AR</td>\n",
       "      <td>General Merchandisers</td>\n",
       "      <td>AR</td>\n",
       "      <td>Bentonville</td>\n",
       "    </tr>\n",
       "    <tr>\n",
       "      <th>2</th>\n",
       "      <td>Berkshire Hathaway</td>\n",
       "      <td>367,700</td>\n",
       "      <td>4.0</td>\n",
       "      <td>223604.0</td>\n",
       "      <td>6.10%</td>\n",
       "      <td>$24,074.00</td>\n",
       "      <td>0.00%</td>\n",
       "      <td>$620,854.00</td>\n",
       "      <td>$411,035.00</td>\n",
       "      <td>-95.9980</td>\n",
       "      <td>41.2524</td>\n",
       "      <td>Omaha, NE</td>\n",
       "      <td>Insurance: Property and Casualty (Stock)</td>\n",
       "      <td>NE</td>\n",
       "      <td>Omaha</td>\n",
       "    </tr>\n",
       "    <tr>\n",
       "      <th>3</th>\n",
       "      <td>Apple</td>\n",
       "      <td>116,000</td>\n",
       "      <td>3.0</td>\n",
       "      <td>215639.0</td>\n",
       "      <td>-7.70%</td>\n",
       "      <td>$45,687.00</td>\n",
       "      <td>-14.40%</td>\n",
       "      <td>$321,686.00</td>\n",
       "      <td>$753,718.00</td>\n",
       "      <td>-122.0320</td>\n",
       "      <td>37.3230</td>\n",
       "      <td>Cupertino, CA</td>\n",
       "      <td>Computers, Office Equipment</td>\n",
       "      <td>CA</td>\n",
       "      <td>Cupertino</td>\n",
       "    </tr>\n",
       "    <tr>\n",
       "      <th>4</th>\n",
       "      <td>Exxon Mobil</td>\n",
       "      <td>72,700</td>\n",
       "      <td>2.0</td>\n",
       "      <td>205004.0</td>\n",
       "      <td>-16.70%</td>\n",
       "      <td>$7,840.00</td>\n",
       "      <td>-51.50%</td>\n",
       "      <td>$330,314.00</td>\n",
       "      <td>$340,056.00</td>\n",
       "      <td>-96.9489</td>\n",
       "      <td>32.8140</td>\n",
       "      <td>Irving, TX</td>\n",
       "      <td>Petroleum Refining</td>\n",
       "      <td>TX</td>\n",
       "      <td>Irving</td>\n",
       "    </tr>\n",
       "    <tr>\n",
       "      <th>5</th>\n",
       "      <td>McKesson</td>\n",
       "      <td>68,000</td>\n",
       "      <td>5.0</td>\n",
       "      <td>192487.0</td>\n",
       "      <td>6.20%</td>\n",
       "      <td>$2,258.00</td>\n",
       "      <td>53.00%</td>\n",
       "      <td>$56,563.00</td>\n",
       "      <td>$31,439.00</td>\n",
       "      <td>-122.4190</td>\n",
       "      <td>37.7749</td>\n",
       "      <td>San Francisco, CA</td>\n",
       "      <td>Wholesalers: Health Care</td>\n",
       "      <td>CA</td>\n",
       "      <td>San Francisco</td>\n",
       "    </tr>\n",
       "    <tr>\n",
       "      <th>...</th>\n",
       "      <td>...</td>\n",
       "      <td>...</td>\n",
       "      <td>...</td>\n",
       "      <td>...</td>\n",
       "      <td>...</td>\n",
       "      <td>...</td>\n",
       "      <td>...</td>\n",
       "      <td>...</td>\n",
       "      <td>...</td>\n",
       "      <td>...</td>\n",
       "      <td>...</td>\n",
       "      <td>...</td>\n",
       "      <td>...</td>\n",
       "      <td>...</td>\n",
       "      <td>...</td>\n",
       "    </tr>\n",
       "    <tr>\n",
       "      <th>470</th>\n",
       "      <td>Big Lots</td>\n",
       "      <td>23,150</td>\n",
       "      <td>495.0</td>\n",
       "      <td>5200.0</td>\n",
       "      <td>0.20%</td>\n",
       "      <td>$152.80</td>\n",
       "      <td>7.00%</td>\n",
       "      <td>$1,608.00</td>\n",
       "      <td>$2,180.00</td>\n",
       "      <td>-82.9988</td>\n",
       "      <td>39.9612</td>\n",
       "      <td>Columbus, OH</td>\n",
       "      <td>Specialty Retailers: Other</td>\n",
       "      <td>OH</td>\n",
       "      <td>Columbus</td>\n",
       "    </tr>\n",
       "    <tr>\n",
       "      <th>471</th>\n",
       "      <td>Michaels Cos.</td>\n",
       "      <td>31,000</td>\n",
       "      <td>517.0</td>\n",
       "      <td>5197.0</td>\n",
       "      <td>5.80%</td>\n",
       "      <td>$378.20</td>\n",
       "      <td>4.20%</td>\n",
       "      <td>$2,148.00</td>\n",
       "      <td>$4,229.00</td>\n",
       "      <td>-96.9489</td>\n",
       "      <td>32.8140</td>\n",
       "      <td>Irving, TX</td>\n",
       "      <td>Specialty Retailers: Other</td>\n",
       "      <td>TX</td>\n",
       "      <td>Irving</td>\n",
       "    </tr>\n",
       "    <tr>\n",
       "      <th>472</th>\n",
       "      <td>Toll Brothers</td>\n",
       "      <td>4,200</td>\n",
       "      <td>576.0</td>\n",
       "      <td>5170.0</td>\n",
       "      <td>23.90%</td>\n",
       "      <td>$382.10</td>\n",
       "      <td>5.20%</td>\n",
       "      <td>$9,737.00</td>\n",
       "      <td>$5,872.00</td>\n",
       "      <td>-75.1285</td>\n",
       "      <td>40.1784</td>\n",
       "      <td>Horsham, PA</td>\n",
       "      <td>Homebuilders</td>\n",
       "      <td>PA</td>\n",
       "      <td>Horsham</td>\n",
       "    </tr>\n",
       "    <tr>\n",
       "      <th>473</th>\n",
       "      <td>Yahoo</td>\n",
       "      <td>8,500</td>\n",
       "      <td>513.0</td>\n",
       "      <td>5169.0</td>\n",
       "      <td>4.00%</td>\n",
       "      <td>($214.30)</td>\n",
       "      <td>-</td>\n",
       "      <td>$48,083.00</td>\n",
       "      <td>$44,391.00</td>\n",
       "      <td>-122.0360</td>\n",
       "      <td>37.3688</td>\n",
       "      <td>Sunnyvale, CA</td>\n",
       "      <td>Internet Services and Retailing</td>\n",
       "      <td>CA</td>\n",
       "      <td>Sunnyvale</td>\n",
       "    </tr>\n",
       "    <tr>\n",
       "      <th>474</th>\n",
       "      <td>ABM Industries</td>\n",
       "      <td>110,000</td>\n",
       "      <td>485.0</td>\n",
       "      <td>5145.0</td>\n",
       "      <td>-2.80%</td>\n",
       "      <td>$57.20</td>\n",
       "      <td>-25.00%</td>\n",
       "      <td>$2,281.00</td>\n",
       "      <td>$2,428.00</td>\n",
       "      <td>-74.0059</td>\n",
       "      <td>40.7128</td>\n",
       "      <td>New York, NY</td>\n",
       "      <td>Diversified Outsourcing Services</td>\n",
       "      <td>NY</td>\n",
       "      <td>New York</td>\n",
       "    </tr>\n",
       "  </tbody>\n",
       "</table>\n",
       "<p>474 rows × 15 columns</p>\n",
       "</div>"
      ],
      "text/plain": [
       "                 company  employees  previousrank  revenues revenuechange  \\\n",
       "rank                                                                        \n",
       "1                Walmart  2,300,000           1.0  485873.0         0.80%   \n",
       "2     Berkshire Hathaway    367,700           4.0  223604.0         6.10%   \n",
       "3                  Apple    116,000           3.0  215639.0        -7.70%   \n",
       "4            Exxon Mobil     72,700           2.0  205004.0       -16.70%   \n",
       "5               McKesson     68,000           5.0  192487.0         6.20%   \n",
       "...                  ...        ...           ...       ...           ...   \n",
       "470             Big Lots     23,150         495.0    5200.0         0.20%   \n",
       "471        Michaels Cos.     31,000         517.0    5197.0         5.80%   \n",
       "472        Toll Brothers      4,200         576.0    5170.0        23.90%   \n",
       "473                Yahoo      8,500         513.0    5169.0         4.00%   \n",
       "474       ABM Industries    110,000         485.0    5145.0        -2.80%   \n",
       "\n",
       "          profits profitschange        assets   marketvalue  longitude  \\\n",
       "rank                                                                     \n",
       "1     $13,643.00         -7.20%  $198,825.00   $218,619.00    -94.2088   \n",
       "2     $24,074.00          0.00%  $620,854.00   $411,035.00    -95.9980   \n",
       "3     $45,687.00        -14.40%  $321,686.00   $753,718.00   -122.0320   \n",
       "4      $7,840.00        -51.50%  $330,314.00   $340,056.00    -96.9489   \n",
       "5      $2,258.00         53.00%   $56,563.00    $31,439.00   -122.4190   \n",
       "...           ...           ...           ...           ...        ...   \n",
       "470      $152.80          7.00%    $1,608.00     $2,180.00    -82.9988   \n",
       "471      $378.20          4.20%    $2,148.00     $4,229.00    -96.9489   \n",
       "472      $382.10          5.20%    $9,737.00     $5,872.00    -75.1285   \n",
       "473     ($214.30)             -   $48,083.00    $44,391.00   -122.0360   \n",
       "474       $57.20        -25.00%    $2,281.00     $2,428.00    -74.0059   \n",
       "\n",
       "      latitude           location                                  industry  \\\n",
       "rank                                                                          \n",
       "1      36.3729    Bentonville, AR                     General Merchandisers   \n",
       "2      41.2524          Omaha, NE  Insurance: Property and Casualty (Stock)   \n",
       "3      37.3230      Cupertino, CA               Computers, Office Equipment   \n",
       "4      32.8140         Irving, TX                        Petroleum Refining   \n",
       "5      37.7749  San Francisco, CA                  Wholesalers: Health Care   \n",
       "...        ...                ...                                       ...   \n",
       "470    39.9612       Columbus, OH                Specialty Retailers: Other   \n",
       "471    32.8140         Irving, TX                Specialty Retailers: Other   \n",
       "472    40.1784        Horsham, PA                              Homebuilders   \n",
       "473    37.3688      Sunnyvale, CA           Internet Services and Retailing   \n",
       "474    40.7128       New York, NY          Diversified Outsourcing Services   \n",
       "\n",
       "     state           city  \n",
       "rank                       \n",
       "1       AR    Bentonville  \n",
       "2       NE          Omaha  \n",
       "3       CA      Cupertino  \n",
       "4       TX         Irving  \n",
       "5       CA  San Francisco  \n",
       "...    ...            ...  \n",
       "470     OH       Columbus  \n",
       "471     TX         Irving  \n",
       "472     PA        Horsham  \n",
       "473     CA      Sunnyvale  \n",
       "474     NY       New York  \n",
       "\n",
       "[474 rows x 15 columns]"
      ]
     },
     "execution_count": 26,
     "metadata": {},
     "output_type": "execute_result"
    }
   ],
   "source": [
    "merged_500.reset_index(drop=True, inplace=True)  \n",
    "merged_500.index = merged_500.index + 1  \n",
    "\n",
    "merged_500.index.name = 'rank'\n",
    "merged_500"
   ]
  },
  {
   "cell_type": "markdown",
   "id": "1bebd556-9096-44f5-81a0-8c4bd2d80196",
   "metadata": {},
   "source": [
    "#### 6) Find out Top 5 states with the most Fortune companies"
   ]
  },
  {
   "cell_type": "code",
   "execution_count": 29,
   "id": "f2f856a5-c70d-4b55-ac76-a0f16333d287",
   "metadata": {},
   "outputs": [
    {
     "name": "stdout",
     "output_type": "stream",
     "text": [
      "  state  counts\n",
      "0    NY      52\n",
      "1    CA      52\n",
      "2    TX      44\n",
      "3    IL      34\n",
      "4    OH      25\n"
     ]
    }
   ],
   "source": [
    "counts = merged_500['state'].value_counts().reset_index()\n",
    "counts.columns = ['state', 'counts'] \n",
    "\n",
    "top_5_states = counts.head(5)\n",
    "print(top_5_states)"
   ]
  },
  {
   "cell_type": "markdown",
   "id": "3796901c-1dac-4ad9-9b57-3acc63bc43b2",
   "metadata": {},
   "source": [
    "#### 7) Visualization for the Top 5 states"
   ]
  },
  {
   "cell_type": "code",
   "execution_count": 32,
   "id": "197b7f91-025f-47e2-bcba-3a56c8c110d3",
   "metadata": {},
   "outputs": [],
   "source": [
    "import plotly.express as px"
   ]
  },
  {
   "cell_type": "code",
   "execution_count": 34,
   "id": "b526a611-9243-4748-a822-baaa0c33ece2",
   "metadata": {},
   "outputs": [
    {
     "data": {
      "text/html": [
       "        <script type=\"text/javascript\">\n",
       "        window.PlotlyConfig = {MathJaxConfig: 'local'};\n",
       "        if (window.MathJax && window.MathJax.Hub && window.MathJax.Hub.Config) {window.MathJax.Hub.Config({SVG: {font: \"STIX-Web\"}});}\n",
       "        if (typeof require !== 'undefined') {\n",
       "        require.undef(\"plotly\");\n",
       "        requirejs.config({\n",
       "            paths: {\n",
       "                'plotly': ['https://cdn.plot.ly/plotly-2.32.0.min']\n",
       "            }\n",
       "        });\n",
       "        require(['plotly'], function(Plotly) {\n",
       "            window._Plotly = Plotly;\n",
       "        });\n",
       "        }\n",
       "        </script>\n",
       "        "
      ]
     },
     "metadata": {},
     "output_type": "display_data"
    },
    {
     "data": {
      "application/vnd.plotly.v1+json": {
       "config": {
        "plotlyServerURL": "https://plot.ly"
       },
       "data": [
        {
         "alignmentgroup": "True",
         "hovertemplate": "State=%{x}<br>Number of F500 Companies=%{marker.color}<extra></extra>",
         "legendgroup": "",
         "marker": {
          "color": [
           52,
           52,
           44,
           34,
           25
          ],
          "coloraxis": "coloraxis",
          "pattern": {
           "shape": ""
          }
         },
         "name": "",
         "offsetgroup": "",
         "orientation": "v",
         "showlegend": false,
         "text": [
          52,
          52,
          44,
          34,
          25
         ],
         "textposition": "auto",
         "type": "bar",
         "x": [
          "NY",
          "CA",
          "TX",
          "IL",
          "OH"
         ],
         "xaxis": "x",
         "y": [
          52,
          52,
          44,
          34,
          25
         ],
         "yaxis": "y"
        }
       ],
       "layout": {
        "autosize": true,
        "barmode": "relative",
        "coloraxis": {
         "colorbar": {
          "title": {
           "text": "Number of F500 Companies"
          }
         },
         "colorscale": [
          [
           0,
           "#0d0887"
          ],
          [
           0.1111111111111111,
           "#46039f"
          ],
          [
           0.2222222222222222,
           "#7201a8"
          ],
          [
           0.3333333333333333,
           "#9c179e"
          ],
          [
           0.4444444444444444,
           "#bd3786"
          ],
          [
           0.5555555555555556,
           "#d8576b"
          ],
          [
           0.6666666666666666,
           "#ed7953"
          ],
          [
           0.7777777777777778,
           "#fb9f3a"
          ],
          [
           0.8888888888888888,
           "#fdca26"
          ],
          [
           1,
           "#f0f921"
          ]
         ]
        },
        "legend": {
         "tracegroupgap": 0
        },
        "template": {
         "data": {
          "bar": [
           {
            "error_x": {
             "color": "#2a3f5f"
            },
            "error_y": {
             "color": "#2a3f5f"
            },
            "marker": {
             "line": {
              "color": "#E5ECF6",
              "width": 0.5
             },
             "pattern": {
              "fillmode": "overlay",
              "size": 10,
              "solidity": 0.2
             }
            },
            "type": "bar"
           }
          ],
          "barpolar": [
           {
            "marker": {
             "line": {
              "color": "#E5ECF6",
              "width": 0.5
             },
             "pattern": {
              "fillmode": "overlay",
              "size": 10,
              "solidity": 0.2
             }
            },
            "type": "barpolar"
           }
          ],
          "carpet": [
           {
            "aaxis": {
             "endlinecolor": "#2a3f5f",
             "gridcolor": "white",
             "linecolor": "white",
             "minorgridcolor": "white",
             "startlinecolor": "#2a3f5f"
            },
            "baxis": {
             "endlinecolor": "#2a3f5f",
             "gridcolor": "white",
             "linecolor": "white",
             "minorgridcolor": "white",
             "startlinecolor": "#2a3f5f"
            },
            "type": "carpet"
           }
          ],
          "choropleth": [
           {
            "colorbar": {
             "outlinewidth": 0,
             "ticks": ""
            },
            "type": "choropleth"
           }
          ],
          "contour": [
           {
            "colorbar": {
             "outlinewidth": 0,
             "ticks": ""
            },
            "colorscale": [
             [
              0,
              "#0d0887"
             ],
             [
              0.1111111111111111,
              "#46039f"
             ],
             [
              0.2222222222222222,
              "#7201a8"
             ],
             [
              0.3333333333333333,
              "#9c179e"
             ],
             [
              0.4444444444444444,
              "#bd3786"
             ],
             [
              0.5555555555555556,
              "#d8576b"
             ],
             [
              0.6666666666666666,
              "#ed7953"
             ],
             [
              0.7777777777777778,
              "#fb9f3a"
             ],
             [
              0.8888888888888888,
              "#fdca26"
             ],
             [
              1,
              "#f0f921"
             ]
            ],
            "type": "contour"
           }
          ],
          "contourcarpet": [
           {
            "colorbar": {
             "outlinewidth": 0,
             "ticks": ""
            },
            "type": "contourcarpet"
           }
          ],
          "heatmap": [
           {
            "colorbar": {
             "outlinewidth": 0,
             "ticks": ""
            },
            "colorscale": [
             [
              0,
              "#0d0887"
             ],
             [
              0.1111111111111111,
              "#46039f"
             ],
             [
              0.2222222222222222,
              "#7201a8"
             ],
             [
              0.3333333333333333,
              "#9c179e"
             ],
             [
              0.4444444444444444,
              "#bd3786"
             ],
             [
              0.5555555555555556,
              "#d8576b"
             ],
             [
              0.6666666666666666,
              "#ed7953"
             ],
             [
              0.7777777777777778,
              "#fb9f3a"
             ],
             [
              0.8888888888888888,
              "#fdca26"
             ],
             [
              1,
              "#f0f921"
             ]
            ],
            "type": "heatmap"
           }
          ],
          "heatmapgl": [
           {
            "colorbar": {
             "outlinewidth": 0,
             "ticks": ""
            },
            "colorscale": [
             [
              0,
              "#0d0887"
             ],
             [
              0.1111111111111111,
              "#46039f"
             ],
             [
              0.2222222222222222,
              "#7201a8"
             ],
             [
              0.3333333333333333,
              "#9c179e"
             ],
             [
              0.4444444444444444,
              "#bd3786"
             ],
             [
              0.5555555555555556,
              "#d8576b"
             ],
             [
              0.6666666666666666,
              "#ed7953"
             ],
             [
              0.7777777777777778,
              "#fb9f3a"
             ],
             [
              0.8888888888888888,
              "#fdca26"
             ],
             [
              1,
              "#f0f921"
             ]
            ],
            "type": "heatmapgl"
           }
          ],
          "histogram": [
           {
            "marker": {
             "pattern": {
              "fillmode": "overlay",
              "size": 10,
              "solidity": 0.2
             }
            },
            "type": "histogram"
           }
          ],
          "histogram2d": [
           {
            "colorbar": {
             "outlinewidth": 0,
             "ticks": ""
            },
            "colorscale": [
             [
              0,
              "#0d0887"
             ],
             [
              0.1111111111111111,
              "#46039f"
             ],
             [
              0.2222222222222222,
              "#7201a8"
             ],
             [
              0.3333333333333333,
              "#9c179e"
             ],
             [
              0.4444444444444444,
              "#bd3786"
             ],
             [
              0.5555555555555556,
              "#d8576b"
             ],
             [
              0.6666666666666666,
              "#ed7953"
             ],
             [
              0.7777777777777778,
              "#fb9f3a"
             ],
             [
              0.8888888888888888,
              "#fdca26"
             ],
             [
              1,
              "#f0f921"
             ]
            ],
            "type": "histogram2d"
           }
          ],
          "histogram2dcontour": [
           {
            "colorbar": {
             "outlinewidth": 0,
             "ticks": ""
            },
            "colorscale": [
             [
              0,
              "#0d0887"
             ],
             [
              0.1111111111111111,
              "#46039f"
             ],
             [
              0.2222222222222222,
              "#7201a8"
             ],
             [
              0.3333333333333333,
              "#9c179e"
             ],
             [
              0.4444444444444444,
              "#bd3786"
             ],
             [
              0.5555555555555556,
              "#d8576b"
             ],
             [
              0.6666666666666666,
              "#ed7953"
             ],
             [
              0.7777777777777778,
              "#fb9f3a"
             ],
             [
              0.8888888888888888,
              "#fdca26"
             ],
             [
              1,
              "#f0f921"
             ]
            ],
            "type": "histogram2dcontour"
           }
          ],
          "mesh3d": [
           {
            "colorbar": {
             "outlinewidth": 0,
             "ticks": ""
            },
            "type": "mesh3d"
           }
          ],
          "parcoords": [
           {
            "line": {
             "colorbar": {
              "outlinewidth": 0,
              "ticks": ""
             }
            },
            "type": "parcoords"
           }
          ],
          "pie": [
           {
            "automargin": true,
            "type": "pie"
           }
          ],
          "scatter": [
           {
            "fillpattern": {
             "fillmode": "overlay",
             "size": 10,
             "solidity": 0.2
            },
            "type": "scatter"
           }
          ],
          "scatter3d": [
           {
            "line": {
             "colorbar": {
              "outlinewidth": 0,
              "ticks": ""
             }
            },
            "marker": {
             "colorbar": {
              "outlinewidth": 0,
              "ticks": ""
             }
            },
            "type": "scatter3d"
           }
          ],
          "scattercarpet": [
           {
            "marker": {
             "colorbar": {
              "outlinewidth": 0,
              "ticks": ""
             }
            },
            "type": "scattercarpet"
           }
          ],
          "scattergeo": [
           {
            "marker": {
             "colorbar": {
              "outlinewidth": 0,
              "ticks": ""
             }
            },
            "type": "scattergeo"
           }
          ],
          "scattergl": [
           {
            "marker": {
             "colorbar": {
              "outlinewidth": 0,
              "ticks": ""
             }
            },
            "type": "scattergl"
           }
          ],
          "scattermapbox": [
           {
            "marker": {
             "colorbar": {
              "outlinewidth": 0,
              "ticks": ""
             }
            },
            "type": "scattermapbox"
           }
          ],
          "scatterpolar": [
           {
            "marker": {
             "colorbar": {
              "outlinewidth": 0,
              "ticks": ""
             }
            },
            "type": "scatterpolar"
           }
          ],
          "scatterpolargl": [
           {
            "marker": {
             "colorbar": {
              "outlinewidth": 0,
              "ticks": ""
             }
            },
            "type": "scatterpolargl"
           }
          ],
          "scatterternary": [
           {
            "marker": {
             "colorbar": {
              "outlinewidth": 0,
              "ticks": ""
             }
            },
            "type": "scatterternary"
           }
          ],
          "surface": [
           {
            "colorbar": {
             "outlinewidth": 0,
             "ticks": ""
            },
            "colorscale": [
             [
              0,
              "#0d0887"
             ],
             [
              0.1111111111111111,
              "#46039f"
             ],
             [
              0.2222222222222222,
              "#7201a8"
             ],
             [
              0.3333333333333333,
              "#9c179e"
             ],
             [
              0.4444444444444444,
              "#bd3786"
             ],
             [
              0.5555555555555556,
              "#d8576b"
             ],
             [
              0.6666666666666666,
              "#ed7953"
             ],
             [
              0.7777777777777778,
              "#fb9f3a"
             ],
             [
              0.8888888888888888,
              "#fdca26"
             ],
             [
              1,
              "#f0f921"
             ]
            ],
            "type": "surface"
           }
          ],
          "table": [
           {
            "cells": {
             "fill": {
              "color": "#EBF0F8"
             },
             "line": {
              "color": "white"
             }
            },
            "header": {
             "fill": {
              "color": "#C8D4E3"
             },
             "line": {
              "color": "white"
             }
            },
            "type": "table"
           }
          ]
         },
         "layout": {
          "annotationdefaults": {
           "arrowcolor": "#2a3f5f",
           "arrowhead": 0,
           "arrowwidth": 1
          },
          "autotypenumbers": "strict",
          "coloraxis": {
           "colorbar": {
            "outlinewidth": 0,
            "ticks": ""
           }
          },
          "colorscale": {
           "diverging": [
            [
             0,
             "#8e0152"
            ],
            [
             0.1,
             "#c51b7d"
            ],
            [
             0.2,
             "#de77ae"
            ],
            [
             0.3,
             "#f1b6da"
            ],
            [
             0.4,
             "#fde0ef"
            ],
            [
             0.5,
             "#f7f7f7"
            ],
            [
             0.6,
             "#e6f5d0"
            ],
            [
             0.7,
             "#b8e186"
            ],
            [
             0.8,
             "#7fbc41"
            ],
            [
             0.9,
             "#4d9221"
            ],
            [
             1,
             "#276419"
            ]
           ],
           "sequential": [
            [
             0,
             "#0d0887"
            ],
            [
             0.1111111111111111,
             "#46039f"
            ],
            [
             0.2222222222222222,
             "#7201a8"
            ],
            [
             0.3333333333333333,
             "#9c179e"
            ],
            [
             0.4444444444444444,
             "#bd3786"
            ],
            [
             0.5555555555555556,
             "#d8576b"
            ],
            [
             0.6666666666666666,
             "#ed7953"
            ],
            [
             0.7777777777777778,
             "#fb9f3a"
            ],
            [
             0.8888888888888888,
             "#fdca26"
            ],
            [
             1,
             "#f0f921"
            ]
           ],
           "sequentialminus": [
            [
             0,
             "#0d0887"
            ],
            [
             0.1111111111111111,
             "#46039f"
            ],
            [
             0.2222222222222222,
             "#7201a8"
            ],
            [
             0.3333333333333333,
             "#9c179e"
            ],
            [
             0.4444444444444444,
             "#bd3786"
            ],
            [
             0.5555555555555556,
             "#d8576b"
            ],
            [
             0.6666666666666666,
             "#ed7953"
            ],
            [
             0.7777777777777778,
             "#fb9f3a"
            ],
            [
             0.8888888888888888,
             "#fdca26"
            ],
            [
             1,
             "#f0f921"
            ]
           ]
          },
          "colorway": [
           "#636efa",
           "#EF553B",
           "#00cc96",
           "#ab63fa",
           "#FFA15A",
           "#19d3f3",
           "#FF6692",
           "#B6E880",
           "#FF97FF",
           "#FECB52"
          ],
          "font": {
           "color": "#2a3f5f"
          },
          "geo": {
           "bgcolor": "white",
           "lakecolor": "white",
           "landcolor": "#E5ECF6",
           "showlakes": true,
           "showland": true,
           "subunitcolor": "white"
          },
          "hoverlabel": {
           "align": "left"
          },
          "hovermode": "closest",
          "mapbox": {
           "style": "light"
          },
          "paper_bgcolor": "white",
          "plot_bgcolor": "#E5ECF6",
          "polar": {
           "angularaxis": {
            "gridcolor": "white",
            "linecolor": "white",
            "ticks": ""
           },
           "bgcolor": "#E5ECF6",
           "radialaxis": {
            "gridcolor": "white",
            "linecolor": "white",
            "ticks": ""
           }
          },
          "scene": {
           "xaxis": {
            "backgroundcolor": "#E5ECF6",
            "gridcolor": "white",
            "gridwidth": 2,
            "linecolor": "white",
            "showbackground": true,
            "ticks": "",
            "zerolinecolor": "white"
           },
           "yaxis": {
            "backgroundcolor": "#E5ECF6",
            "gridcolor": "white",
            "gridwidth": 2,
            "linecolor": "white",
            "showbackground": true,
            "ticks": "",
            "zerolinecolor": "white"
           },
           "zaxis": {
            "backgroundcolor": "#E5ECF6",
            "gridcolor": "white",
            "gridwidth": 2,
            "linecolor": "white",
            "showbackground": true,
            "ticks": "",
            "zerolinecolor": "white"
           }
          },
          "shapedefaults": {
           "line": {
            "color": "#2a3f5f"
           }
          },
          "ternary": {
           "aaxis": {
            "gridcolor": "white",
            "linecolor": "white",
            "ticks": ""
           },
           "baxis": {
            "gridcolor": "white",
            "linecolor": "white",
            "ticks": ""
           },
           "bgcolor": "#E5ECF6",
           "caxis": {
            "gridcolor": "white",
            "linecolor": "white",
            "ticks": ""
           }
          },
          "title": {
           "x": 0.05
          },
          "xaxis": {
           "automargin": true,
           "gridcolor": "white",
           "linecolor": "white",
           "ticks": "",
           "title": {
            "standoff": 15
           },
           "zerolinecolor": "white",
           "zerolinewidth": 2
          },
          "yaxis": {
           "automargin": true,
           "gridcolor": "white",
           "linecolor": "white",
           "ticks": "",
           "title": {
            "standoff": 15
           },
           "zerolinecolor": "white",
           "zerolinewidth": 2
          }
         }
        },
        "title": {
         "text": "Top 5 States with the Most Fortune Companies"
        },
        "xaxis": {
         "anchor": "y",
         "autorange": true,
         "domain": [
          0,
          1
         ],
         "range": [
          -0.5,
          4.5
         ],
         "title": {
          "text": "State"
         },
         "type": "category"
        },
        "yaxis": {
         "anchor": "x",
         "autorange": true,
         "domain": [
          0,
          1
         ],
         "range": [
          0,
          54.73684210526316
         ],
         "title": {
          "text": "Number of F500 Companies"
         },
         "type": "linear"
        }
       }
      },
      "image/png": "[encoded data removed]",
      "text/html": [
       "<div>                            <div id=\"2e64565e-c953-48d2-81b9-128542f1b852\" class=\"plotly-graph-div\" style=\"height:525px; width:100%;\"></div>            <script type=\"text/javascript\">                require([\"plotly\"], function(Plotly) {                    window.PLOTLYENV=window.PLOTLYENV || {};                                    if (document.getElementById(\"2e64565e-c953-48d2-81b9-128542f1b852\")) {                    Plotly.newPlot(                        \"2e64565e-c953-48d2-81b9-128542f1b852\",                        [{\"alignmentgroup\":\"True\",\"hovertemplate\":\"State=%{x}\\u003cbr\\u003eNumber of F500 Companies=%{marker.color}\\u003cextra\\u003e\\u003c\\u002fextra\\u003e\",\"legendgroup\":\"\",\"marker\":{\"color\":[52,52,44,34,25],\"coloraxis\":\"coloraxis\",\"pattern\":{\"shape\":\"\"}},\"name\":\"\",\"offsetgroup\":\"\",\"orientation\":\"v\",\"showlegend\":false,\"text\":[52.0,52.0,44.0,34.0,25.0],\"textposition\":\"auto\",\"x\":[\"NY\",\"CA\",\"TX\",\"IL\",\"OH\"],\"xaxis\":\"x\",\"y\":[52,52,44,34,25],\"yaxis\":\"y\",\"type\":\"bar\"}],                        {\"template\":{\"data\":{\"histogram2dcontour\":[{\"type\":\"histogram2dcontour\",\"colorbar\":{\"outlinewidth\":0,\"ticks\":\"\"},\"colorscale\":[[0.0,\"#0d0887\"],[0.1111111111111111,\"#46039f\"],[0.2222222222222222,\"#7201a8\"],[0.3333333333333333,\"#9c179e\"],[0.4444444444444444,\"#bd3786\"],[0.5555555555555556,\"#d8576b\"],[0.6666666666666666,\"#ed7953\"],[0.7777777777777778,\"#fb9f3a\"],[0.8888888888888888,\"#fdca26\"],[1.0,\"#f0f921\"]]}],\"choropleth\":[{\"type\":\"choropleth\",\"colorbar\":{\"outlinewidth\":0,\"ticks\":\"\"}}],\"histogram2d\":[{\"type\":\"histogram2d\",\"colorbar\":{\"outlinewidth\":0,\"ticks\":\"\"},\"colorscale\":[[0.0,\"#0d0887\"],[0.1111111111111111,\"#46039f\"],[0.2222222222222222,\"#7201a8\"],[0.3333333333333333,\"#9c179e\"],[0.4444444444444444,\"#bd3786\"],[0.5555555555555556,\"#d8576b\"],[0.6666666666666666,\"#ed7953\"],[0.7777777777777778,\"#fb9f3a\"],[0.8888888888888888,\"#fdca26\"],[1.0,\"#f0f921\"]]}],\"heatmap\":[{\"type\":\"heatmap\",\"colorbar\":{\"outlinewidth\":0,\"ticks\":\"\"},\"colorscale\":[[0.0,\"#0d0887\"],[0.1111111111111111,\"#46039f\"],[0.2222222222222222,\"#7201a8\"],[0.3333333333333333,\"#9c179e\"],[0.4444444444444444,\"#bd3786\"],[0.5555555555555556,\"#d8576b\"],[0.6666666666666666,\"#ed7953\"],[0.7777777777777778,\"#fb9f3a\"],[0.8888888888888888,\"#fdca26\"],[1.0,\"#f0f921\"]]}],\"heatmapgl\":[{\"type\":\"heatmapgl\",\"colorbar\":{\"outlinewidth\":0,\"ticks\":\"\"},\"colorscale\":[[0.0,\"#0d0887\"],[0.1111111111111111,\"#46039f\"],[0.2222222222222222,\"#7201a8\"],[0.3333333333333333,\"#9c179e\"],[0.4444444444444444,\"#bd3786\"],[0.5555555555555556,\"#d8576b\"],[0.6666666666666666,\"#ed7953\"],[0.7777777777777778,\"#fb9f3a\"],[0.8888888888888888,\"#fdca26\"],[1.0,\"#f0f921\"]]}],\"contourcarpet\":[{\"type\":\"contourcarpet\",\"colorbar\":{\"outlinewidth\":0,\"ticks\":\"\"}}],\"contour\":[{\"type\":\"contour\",\"colorbar\":{\"outlinewidth\":0,\"ticks\":\"\"},\"colorscale\":[[0.0,\"#0d0887\"],[0.1111111111111111,\"#46039f\"],[0.2222222222222222,\"#7201a8\"],[0.3333333333333333,\"#9c179e\"],[0.4444444444444444,\"#bd3786\"],[0.5555555555555556,\"#d8576b\"],[0.6666666666666666,\"#ed7953\"],[0.7777777777777778,\"#fb9f3a\"],[0.8888888888888888,\"#fdca26\"],[1.0,\"#f0f921\"]]}],\"surface\":[{\"type\":\"surface\",\"colorbar\":{\"outlinewidth\":0,\"ticks\":\"\"},\"colorscale\":[[0.0,\"#0d0887\"],[0.1111111111111111,\"#46039f\"],[0.2222222222222222,\"#7201a8\"],[0.3333333333333333,\"#9c179e\"],[0.4444444444444444,\"#bd3786\"],[0.5555555555555556,\"#d8576b\"],[0.6666666666666666,\"#ed7953\"],[0.7777777777777778,\"#fb9f3a\"],[0.8888888888888888,\"#fdca26\"],[1.0,\"#f0f921\"]]}],\"mesh3d\":[{\"type\":\"mesh3d\",\"colorbar\":{\"outlinewidth\":0,\"ticks\":\"\"}}],\"scatter\":[{\"fillpattern\":{\"fillmode\":\"overlay\",\"size\":10,\"solidity\":0.2},\"type\":\"scatter\"}],\"parcoords\":[{\"type\":\"parcoords\",\"line\":{\"colorbar\":{\"outlinewidth\":0,\"ticks\":\"\"}}}],\"scatterpolargl\":[{\"type\":\"scatterpolargl\",\"marker\":{\"colorbar\":{\"outlinewidth\":0,\"ticks\":\"\"}}}],\"bar\":[{\"error_x\":{\"color\":\"#2a3f5f\"},\"error_y\":{\"color\":\"#2a3f5f\"},\"marker\":{\"line\":{\"color\":\"#E5ECF6\",\"width\":0.5},\"pattern\":{\"fillmode\":\"overlay\",\"size\":10,\"solidity\":0.2}},\"type\":\"bar\"}],\"scattergeo\":[{\"type\":\"scattergeo\",\"marker\":{\"colorbar\":{\"outlinewidth\":0,\"ticks\":\"\"}}}],\"scatterpolar\":[{\"type\":\"scatterpolar\",\"marker\":{\"colorbar\":{\"outlinewidth\":0,\"ticks\":\"\"}}}],\"histogram\":[{\"marker\":{\"pattern\":{\"fillmode\":\"overlay\",\"size\":10,\"solidity\":0.2}},\"type\":\"histogram\"}],\"scattergl\":[{\"type\":\"scattergl\",\"marker\":{\"colorbar\":{\"outlinewidth\":0,\"ticks\":\"\"}}}],\"scatter3d\":[{\"type\":\"scatter3d\",\"line\":{\"colorbar\":{\"outlinewidth\":0,\"ticks\":\"\"}},\"marker\":{\"colorbar\":{\"outlinewidth\":0,\"ticks\":\"\"}}}],\"scattermapbox\":[{\"type\":\"scattermapbox\",\"marker\":{\"colorbar\":{\"outlinewidth\":0,\"ticks\":\"\"}}}],\"scatterternary\":[{\"type\":\"scatterternary\",\"marker\":{\"colorbar\":{\"outlinewidth\":0,\"ticks\":\"\"}}}],\"scattercarpet\":[{\"type\":\"scattercarpet\",\"marker\":{\"colorbar\":{\"outlinewidth\":0,\"ticks\":\"\"}}}],\"carpet\":[{\"aaxis\":{\"endlinecolor\":\"#2a3f5f\",\"gridcolor\":\"white\",\"linecolor\":\"white\",\"minorgridcolor\":\"white\",\"startlinecolor\":\"#2a3f5f\"},\"baxis\":{\"endlinecolor\":\"#2a3f5f\",\"gridcolor\":\"white\",\"linecolor\":\"white\",\"minorgridcolor\":\"white\",\"startlinecolor\":\"#2a3f5f\"},\"type\":\"carpet\"}],\"table\":[{\"cells\":{\"fill\":{\"color\":\"#EBF0F8\"},\"line\":{\"color\":\"white\"}},\"header\":{\"fill\":{\"color\":\"#C8D4E3\"},\"line\":{\"color\":\"white\"}},\"type\":\"table\"}],\"barpolar\":[{\"marker\":{\"line\":{\"color\":\"#E5ECF6\",\"width\":0.5},\"pattern\":{\"fillmode\":\"overlay\",\"size\":10,\"solidity\":0.2}},\"type\":\"barpolar\"}],\"pie\":[{\"automargin\":true,\"type\":\"pie\"}]},\"layout\":{\"autotypenumbers\":\"strict\",\"colorway\":[\"#636efa\",\"#EF553B\",\"#00cc96\",\"#ab63fa\",\"#FFA15A\",\"#19d3f3\",\"#FF6692\",\"#B6E880\",\"#FF97FF\",\"#FECB52\"],\"font\":{\"color\":\"#2a3f5f\"},\"hovermode\":\"closest\",\"hoverlabel\":{\"align\":\"left\"},\"paper_bgcolor\":\"white\",\"plot_bgcolor\":\"#E5ECF6\",\"polar\":{\"bgcolor\":\"#E5ECF6\",\"angularaxis\":{\"gridcolor\":\"white\",\"linecolor\":\"white\",\"ticks\":\"\"},\"radialaxis\":{\"gridcolor\":\"white\",\"linecolor\":\"white\",\"ticks\":\"\"}},\"ternary\":{\"bgcolor\":\"#E5ECF6\",\"aaxis\":{\"gridcolor\":\"white\",\"linecolor\":\"white\",\"ticks\":\"\"},\"baxis\":{\"gridcolor\":\"white\",\"linecolor\":\"white\",\"ticks\":\"\"},\"caxis\":{\"gridcolor\":\"white\",\"linecolor\":\"white\",\"ticks\":\"\"}},\"coloraxis\":{\"colorbar\":{\"outlinewidth\":0,\"ticks\":\"\"}},\"colorscale\":{\"sequential\":[[0.0,\"#0d0887\"],[0.1111111111111111,\"#46039f\"],[0.2222222222222222,\"#7201a8\"],[0.3333333333333333,\"#9c179e\"],[0.4444444444444444,\"#bd3786\"],[0.5555555555555556,\"#d8576b\"],[0.6666666666666666,\"#ed7953\"],[0.7777777777777778,\"#fb9f3a\"],[0.8888888888888888,\"#fdca26\"],[1.0,\"#f0f921\"]],\"sequentialminus\":[[0.0,\"#0d0887\"],[0.1111111111111111,\"#46039f\"],[0.2222222222222222,\"#7201a8\"],[0.3333333333333333,\"#9c179e\"],[0.4444444444444444,\"#bd3786\"],[0.5555555555555556,\"#d8576b\"],[0.6666666666666666,\"#ed7953\"],[0.7777777777777778,\"#fb9f3a\"],[0.8888888888888888,\"#fdca26\"],[1.0,\"#f0f921\"]],\"diverging\":[[0,\"#8e0152\"],[0.1,\"#c51b7d\"],[0.2,\"#de77ae\"],[0.3,\"#f1b6da\"],[0.4,\"#fde0ef\"],[0.5,\"#f7f7f7\"],[0.6,\"#e6f5d0\"],[0.7,\"#b8e186\"],[0.8,\"#7fbc41\"],[0.9,\"#4d9221\"],[1,\"#276419\"]]},\"xaxis\":{\"gridcolor\":\"white\",\"linecolor\":\"white\",\"ticks\":\"\",\"title\":{\"standoff\":15},\"zerolinecolor\":\"white\",\"automargin\":true,\"zerolinewidth\":2},\"yaxis\":{\"gridcolor\":\"white\",\"linecolor\":\"white\",\"ticks\":\"\",\"title\":{\"standoff\":15},\"zerolinecolor\":\"white\",\"automargin\":true,\"zerolinewidth\":2},\"scene\":{\"xaxis\":{\"backgroundcolor\":\"#E5ECF6\",\"gridcolor\":\"white\",\"linecolor\":\"white\",\"showbackground\":true,\"ticks\":\"\",\"zerolinecolor\":\"white\",\"gridwidth\":2},\"yaxis\":{\"backgroundcolor\":\"#E5ECF6\",\"gridcolor\":\"white\",\"linecolor\":\"white\",\"showbackground\":true,\"ticks\":\"\",\"zerolinecolor\":\"white\",\"gridwidth\":2},\"zaxis\":{\"backgroundcolor\":\"#E5ECF6\",\"gridcolor\":\"white\",\"linecolor\":\"white\",\"showbackground\":true,\"ticks\":\"\",\"zerolinecolor\":\"white\",\"gridwidth\":2}},\"shapedefaults\":{\"line\":{\"color\":\"#2a3f5f\"}},\"annotationdefaults\":{\"arrowcolor\":\"#2a3f5f\",\"arrowhead\":0,\"arrowwidth\":1},\"geo\":{\"bgcolor\":\"white\",\"landcolor\":\"#E5ECF6\",\"subunitcolor\":\"white\",\"showland\":true,\"showlakes\":true,\"lakecolor\":\"white\"},\"title\":{\"x\":0.05},\"mapbox\":{\"style\":\"light\"}}},\"xaxis\":{\"anchor\":\"y\",\"domain\":[0.0,1.0],\"title\":{\"text\":\"State\"}},\"yaxis\":{\"anchor\":\"x\",\"domain\":[0.0,1.0],\"title\":{\"text\":\"Number of F500 Companies\"}},\"coloraxis\":{\"colorbar\":{\"title\":{\"text\":\"Number of F500 Companies\"}},\"colorscale\":[[0.0,\"#0d0887\"],[0.1111111111111111,\"#46039f\"],[0.2222222222222222,\"#7201a8\"],[0.3333333333333333,\"#9c179e\"],[0.4444444444444444,\"#bd3786\"],[0.5555555555555556,\"#d8576b\"],[0.6666666666666666,\"#ed7953\"],[0.7777777777777778,\"#fb9f3a\"],[0.8888888888888888,\"#fdca26\"],[1.0,\"#f0f921\"]]},\"legend\":{\"tracegroupgap\":0},\"title\":{\"text\":\"Top 5 States with the Most Fortune Companies\"},\"barmode\":\"relative\"},                        {\"responsive\": true}                    ).then(function(){\n",
       "                            \n",
       "var gd = document.getElementById('2e64565e-c953-48d2-81b9-128542f1b852');\n",
       "var x = new MutationObserver(function (mutations, observer) {{\n",
       "        var display = window.getComputedStyle(gd).display;\n",
       "        if (!display || display === 'none') {{\n",
       "            console.log([gd, 'removed!']);\n",
       "            Plotly.purge(gd);\n",
       "            observer.disconnect();\n",
       "        }}\n",
       "}});\n",
       "\n",
       "// Listen for the removal of the full notebook cells\n",
       "var notebookContainer = gd.closest('#notebook-container');\n",
       "if (notebookContainer) {{\n",
       "    x.observe(notebookContainer, {childList: true});\n",
       "}}\n",
       "\n",
       "// Listen for the clearing of the current output cell\n",
       "var outputEl = gd.closest('.output');\n",
       "if (outputEl) {{\n",
       "    x.observe(outputEl, {childList: true});\n",
       "}}\n",
       "\n",
       "                        })                };                });            </script>        </div>"
      ]
     },
     "metadata": {},
     "output_type": "display_data"
    }
   ],
   "source": [
    "fig = px.bar(top_5_states, x='state', y='counts', \n",
    "             title='Top 5 States with the Most Fortune Companies',\n",
    "             labels={'state': 'State', 'counts': 'Number of F500 Companies'},\n",
    "             color='counts', \n",
    "             text='counts')\n",
    "fig.show()"
   ]
  },
  {
   "cell_type": "markdown",
   "id": "f3d6bc3a-6bd7-427d-9ba1-ec33e9276c9a",
   "metadata": {},
   "source": [
    "#### 8) Takeaways"
   ]
  },
  {
   "cell_type": "markdown",
   "id": "4aafd793-c2bc-4410-92e2-2e723b9c6cb9",
   "metadata": {},
   "source": [
    "Reflected from the visualization, states like CA, NY and TX have the greatest number of Fortune 500 companies. The business-friendly policies may play in attracting in major corporations to locate in these states. Fortune 500 corporations are more likely to be concentrated in states with strong infrastructure, trained labor, and beneficial tax systems. These characteristics make these states attractive locations for companies wishing to grow or start up business. \n",
    "\n",
    "In practice, investors can use this information to find opportunities for growth linked these business centers; politicians can develop plans to attract and maintain enterprises to enhance state revenues. In addition, job applicants might think about moving to states with a high concentration of Fortune 500 companies in order to take advantage of reliable possibilities and economic growth."
   ]
  }
 ],
 "metadata": {
  "kernelspec": {
   "display_name": "Python 3 (ipykernel)",
   "language": "python",
   "name": "python3"
  },
  "language_info": {
   "codemirror_mode": {
    "name": "ipython",
    "version": 3
   },
   "file_extension": ".py",
   "mimetype": "text/x-python",
   "name": "python",
   "nbconvert_exporter": "python",
   "pygments_lexer": "ipython3",
   "version": "3.10.14"
  }
 },
 "nbformat": 4,
 "nbformat_minor": 5
}
